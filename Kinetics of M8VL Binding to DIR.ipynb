{
 "metadata": {
  "name": "Kinetics of M8VL Binding to DIR"
 },
 "nbformat": 3,
 "nbformat_minor": 0,
 "worksheets": [
  {
   "cells": [
    {
     "cell_type": "heading",
     "level": 1,
     "metadata": {},
     "source": [
      "Kinetics of M8V$_{L}$ Binding to DIR"
     ]
    },
    {
     "cell_type": "markdown",
     "metadata": {},
     "source": [
      "M8V$_{L}$ is a fluorogen-activating protein (FAP) capable of binding to and activating Dimethylindole Red (DIR). It also binds to the related dye InQ3. Structural data shows that M8V$_{L}$ forms a homodimer complex around DIR. Below I will propose different kinetic models to describe the binding of M8V$_{L}$ to DIR and discuss their properties and predictions, how they might be tested, and their suitability for fitting of data."
     ]
    },
    {
     "cell_type": "heading",
     "level": 2,
     "metadata": {},
     "source": [
      "Proposed Models"
     ]
    },
    {
     "cell_type": "markdown",
     "metadata": {},
     "source": [
      "Global Formula: $2 \\cdot M8VL + DIR \\rightleftharpoons DIR \\bullet M8VL_{2}$\n",
      "\n",
      "In the proposed formulae below, [P] will represent M8V$_{L}$ while {L} will represent DIR.\n",
      "\n",
      "By usual convention, the coefficient **before** a reagent signifies a multiple of that reagent, while a subscript coefficient **after** the reagent signifies a chemically conjoined multiple; $2 \\cdot M8VL$ represents two non-interacting monomers of M8Vl, whereas $M8VL_{2}$ represents a single unit of M8Vl dimer.\n"
     ]
    },
    {
     "cell_type": "heading",
     "level": 3,
     "metadata": {},
     "source": [
      "1) Simultaneous Model"
     ]
    },
    {
     "cell_type": "markdown",
     "metadata": {},
     "source": [
      "$$2[P] + [L] \\overset{k_{1}}{\\underset{k_{-1}}{\\rightleftharpoons}} [L \\bullet P_{2}]$$"
     ]
    },
    {
     "cell_type": "markdown",
     "metadata": {},
     "source": [
      "Two M8VL subunits and one DIR converge simultaneously\n",
      "\n"
     ]
    },
    {
     "cell_type": "heading",
     "level": 3,
     "metadata": {},
     "source": [
      "2) Sequential Monomer Model"
     ]
    },
    {
     "cell_type": "markdown",
     "metadata": {},
     "source": [
      "$$[P] + [L] \\overset{k_{1}}{\\underset{k_{-1}}{\\rightleftharpoons}} [L \\bullet P] + [P] \\overset{k_{2}}{\\underset{k_{-2}}{\\rightleftharpoons}} [L \\bullet P_{2}]$$"
     ]
    },
    {
     "cell_type": "heading",
     "level": 3,
     "metadata": {},
     "source": [
      "3) Pre-dimerization Model"
     ]
    },
    {
     "cell_type": "markdown",
     "metadata": {},
     "source": [
      "$$[P] + [P] \\overset{k_{1}}{\\underset{k_{-1}}{\\rightleftharpoons}} [P_{2}] + [L] \\overset{k_{2}}{\\underset{k_{-2}}{\\rightleftharpoons}} [L \\bullet P_{2}]$$"
     ]
    },
    {
     "cell_type": "heading",
     "level": 3,
     "metadata": {},
     "source": [
      "4) Combined Model"
     ]
    },
    {
     "cell_type": "markdown",
     "metadata": {},
     "source": [
      "This model cannot be properly rendered in MathJax at this time :( It would conventionally be drawn as a diamond, I hope my meaning is clear below anyway.\n",
      "\n",
      "$$\\begin{align}\n",
      "State 1&: [P]_{free} + [L]_{free} \\\\\n",
      "State 2a&: [L \\bullet P] + [P] \\ \\textit{Intermediate state of Model 2} \\\\\n",
      "State 2b&: [P_{2}] + [L] \\ \\textit{Intermediate state of Model 3} \\\\\n",
      "State 3&: [L \\bullet P_{2}]\n",
      "\\end{align}$$\n",
      "\n",
      "The following exchange principles are in effect:\n",
      "\n",
      "$$[1] \\overset{k_{1}}{\\underset{k_{-1}}{\\rightleftharpoons}} [2a] \\overset{k_{2}}{\\underset{k_{-2}}{\\rightleftharpoons}} [3]$$\n",
      "\n",
      "$$[1] \\overset{k_{3}}{\\underset{k_{-3}}{\\rightleftharpoons}} [2b] \\overset{k_{4}}{\\underset{k_{-4}}{\\rightleftharpoons}} [3]$$\n",
      "\n",
      "State 1 cannot exchange with State 3 without going through either State 2a or State 2b. In the same manner, State 2a may not exchange with State 2b without going through either State 1 or State 3. Such a model *could* be theoretically developed, but I will not do so at this time."
     ]
    },
    {
     "cell_type": "heading",
     "level": 3,
     "metadata": {},
     "source": [
      "Further Analysis of each model"
     ]
    },
    {
     "cell_type": "heading",
     "level": 4,
     "metadata": {},
     "source": [
      "1) Simultaneous Model"
     ]
    },
    {
     "cell_type": "markdown",
     "metadata": {},
     "source": [
      "The forward reaction is third order; the reverse reaction is first order.\n",
      "\n",
      "$$r_{1} = k_{1}[P]^{2}[L]$$\n",
      "$$r_{-1} = k_{-1}[L \\bullet P_{2}]$$\n",
      "\n",
      "The rate reaction in the forward direction is thus:\n",
      "\n",
      "$$R = k_{1}[P]^{2}[L] - k_{-1}[L \\bullet P_{2}]$$\n",
      "\n",
      "And the equilibrium constants may be expressed as ratios accordingly (where $R=0 \\therefore k_{1}[P]^{2}[L] = k_{-1}[L \\bullet P_{2}]$):\n",
      "\n",
      "$$K_{Eq}=\\frac{k_{-1}}{k_{1}}=\\frac{[L \\bullet P_{2}]}{[P]^2[L]},\\ K_{D}=\\frac{k_{1}}{k_{-1}}=\\frac{[P]^2[L]}{[L \\bullet P_{2}]}$$"
     ]
    },
    {
     "cell_type": "markdown",
     "metadata": {},
     "source": [
      "Let's establish a notion for the \"Active Fraction\" for both our protein and ligand, we'll utilize the symbols $F_{P}$ and $F_{L}$ respectively. This fraction will reflect the quantity of fluorescently active $DIR \\bullet M8VL_{2}$ relative to either the total quantity of M8VL or DIR."
     ]
    },
    {
     "cell_type": "markdown",
     "metadata": {},
     "source": [
      "$$F_{P}=\\frac{[L \\bullet P_{2}]}{[P]_{Total}}=\\frac{[L \\bullet P_{2}]}{[P]_{free}+[L \\bullet P_{2}]}$$\n",
      "$$F_{L}=\\frac{[L \\bullet P_{2}]}{[L]_{Total}}=\\frac{[L \\bullet P_{2}]}{[L]_{free}+[L \\bullet P_{2}]}$$"
     ]
    },
    {
     "cell_type": "code",
     "collapsed": false,
     "input": [],
     "language": "python",
     "metadata": {},
     "outputs": []
    }
   ],
   "metadata": {}
  }
 ]
}