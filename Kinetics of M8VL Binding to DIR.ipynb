{
 "metadata": {
  "name": "Kinetics of M8VL Binding to DIR"
 },
 "nbformat": 3,
 "nbformat_minor": 0,
 "worksheets": [
  {
   "cells": [
    {
     "cell_type": "heading",
     "level": 1,
     "metadata": {},
     "source": [
      "Kinetics of M8V$_{L}$ Binding to DIR"
     ]
    },
    {
     "cell_type": "markdown",
     "metadata": {},
     "source": [
      "M8V$_{L}$ is a fluorogen-activating protein (FAP) capable of binding to and activating Dimethylindole Red (DIR). It also binds to the related dye InQ3. Structural data shows that M8V$_{L}$ forms a homodimer complex around DIR. Below I will propose different kinetic models to describe the binding of M8V$_{L}$ to DIR and discuss their properties and predictions, how they might be tested, and their suitability for fitting of data."
     ]
    },
    {
     "cell_type": "heading",
     "level": 2,
     "metadata": {},
     "source": [
      "Proposed Models"
     ]
    },
    {
     "cell_type": "markdown",
     "metadata": {},
     "source": [
      "Global Formula: $2 \\cdot M8VL + DIR \\rightleftharpoons DIR \\bullet M8VL_{2}$\n",
      "\n",
      "In the proposed formulae below, [P] will represent M8V$_{L}$ while {L} will represent DIR.\n",
      "\n",
      "By usual convention, the coefficient **before** a reagent signifies a multiple of that reagent, while a subscript coefficient **after** the reagent signifies a chemically conjoined multiple; $2 \\cdot M8VL$ represents two non-interacting monomers of M8Vl, whereas $M8VL_{2}$ represents a single unit of M8Vl dimer.\n"
     ]
    },
    {
     "cell_type": "heading",
     "level": 3,
     "metadata": {},
     "source": [
      "1) Simultaneous Model"
     ]
    },
    {
     "cell_type": "markdown",
     "metadata": {},
     "source": [
      "$$2[P] + [L] \\overset{k_{1}}{\\underset{k_{-1}}{\\rightleftharpoons}} [L \\bullet P_{2}]$$"
     ]
    },
    {
     "cell_type": "markdown",
     "metadata": {},
     "source": [
      "Two M8VL subunits and one DIR converge simultaneously\n",
      "\n"
     ]
    },
    {
     "cell_type": "heading",
     "level": 3,
     "metadata": {},
     "source": [
      "2) Sequential Monomer Model"
     ]
    },
    {
     "cell_type": "markdown",
     "metadata": {},
     "source": [
      "$$[P] + [L] \\overset{k_{1}}{\\underset{k_{-1}}{\\rightleftharpoons}} [L \\bullet P] + [P] \\overset{k_{2}}{\\underset{k_{-2}}{\\rightleftharpoons}} [L \\bullet P_{2}]$$"
     ]
    },
    {
     "cell_type": "heading",
     "level": 3,
     "metadata": {},
     "source": [
      "3) Pre-dimerization Model"
     ]
    },
    {
     "cell_type": "markdown",
     "metadata": {},
     "source": [
      "$$[P] + [P] \\overset{k_{1}}{\\underset{k_{-1}}{\\rightleftharpoons}} [P_{2}] + [L] \\overset{k_{2}}{\\underset{k_{-2}}{\\rightleftharpoons}} [L \\bullet P_{2}]$$"
     ]
    },
    {
     "cell_type": "heading",
     "level": 3,
     "metadata": {},
     "source": [
      "4) Combined Model"
     ]
    },
    {
     "cell_type": "markdown",
     "metadata": {},
     "source": [
      "This model cannot be properly rendered in MathJax at this time :( It would conventionally be drawn as a diamond, I hope my meaning is clear below anyway.\n",
      "\n",
      "$$\\begin{align}\n",
      "State 1&: [P]_{free} + [L]_{free} \\\\\n",
      "State 2a&: [L \\bullet P] + [P] \\ \\textit{Intermediate state of Model 2} \\\\\n",
      "State 2b&: [P_{2}] + [L] \\ \\textit{Intermediate state of Model 3} \\\\\n",
      "State 3&: [L \\bullet P_{2}]\n",
      "\\end{align}$$\n",
      "\n",
      "The following exchange principles are in effect:\n",
      "\n",
      "$$[1] \\overset{k_{1}}{\\underset{k_{-1}}{\\rightleftharpoons}} [2a] \\overset{k_{2}}{\\underset{k_{-2}}{\\rightleftharpoons}} [3]$$\n",
      "\n",
      "$$[1] \\overset{k_{3}}{\\underset{k_{-3}}{\\rightleftharpoons}} [2b] \\overset{k_{4}}{\\underset{k_{-4}}{\\rightleftharpoons}} [3]$$\n",
      "\n",
      "State 1 cannot exchange with State 3 without going through either State 2a or State 2b. In the same manner, State 2a may not exchange with State 2b without going through either State 1 or State 3. Such a model *could* be theoretically developed, but I will not do so at this time."
     ]
    },
    {
     "cell_type": "heading",
     "level": 3,
     "metadata": {},
     "source": [
      "Further Analysis of each model"
     ]
    },
    {
     "cell_type": "heading",
     "level": 4,
     "metadata": {},
     "source": [
      "1) Simultaneous Model"
     ]
    },
    {
     "cell_type": "markdown",
     "metadata": {},
     "source": [
      "The forward reaction is third order; the reverse reaction is first order.\n",
      "\n",
      "$$r_{1} = k_{1}[P]^{2}[L]$$\n",
      "$$r_{-1} = k_{-1}[L \\bullet P_{2}]$$\n",
      "\n",
      "The rate reaction in the forward direction is thus:\n",
      "\n",
      "$$R = k_{1}[P]^{2}[L] - k_{-1}[L \\bullet P_{2}]$$\n",
      "\n",
      "And the equilibrium constants may be expressed as ratios accordingly (where $R=0 \\therefore k_{1}[P]^{2}[L] = k_{-1}[L \\bullet P_{2}]$):\n",
      "\n",
      "$$K_{Eq}=\\frac{k_{1}}{k_{-1}}=\\frac{[L \\bullet P_{2}]}{[P]^2[L]},\\ K_{D}=\\frac{k_{-1}}{k_{1}}=\\frac{[P]^2[L]}{[L \\bullet P_{2}]}$$"
     ]
    },
    {
     "cell_type": "markdown",
     "metadata": {},
     "source": [
      "Let's establish a notion for the \"Active Fraction\" for both our protein and ligand, we'll utilize the symbols $F_{P}$ and $F_{L}$ respectively. This fraction will reflect the quantity of fluorescently active $DIR \\bullet M8VL_{2}$ relative to either the total quantity of M8VL or DIR.\n",
      "\n",
      "$$F_{P}=\\frac{[L \\bullet P_{2}]}{[P]_{Total}}=\\frac{[L \\bullet P_{2}]}{[P]_{free}+[L \\bullet P_{2}]}$$\n",
      "$$F_{L}=\\frac{[L \\bullet P_{2}]}{[L]_{Total}}=\\frac{[L \\bullet P_{2}]}{[L]_{free}+[L \\bullet P_{2}]}$$"
     ]
    },
    {
     "cell_type": "code",
     "collapsed": false,
     "input": [
      "#Let's attempt an analytical approach...\n",
      "\n",
      "%pylab inline\n",
      "import numpy as np\n",
      "import pylab as pl\n",
      "import math\n",
      "\n",
      "from sympy import *\n",
      "from sympy.solvers import solve"
     ],
     "language": "python",
     "metadata": {},
     "outputs": []
    },
    {
     "cell_type": "code",
     "collapsed": false,
     "input": [
      "import scipy.optimize\n",
      "\n",
      "def fit_model(ligand_range, total_protein, forward_rate_constant):\n",
      "    \n",
      "    def model_func(lp2):\n",
      "        k1 = forward_rate_constant\n",
      "        k2 = 1\n",
      "        Pt = total_protein\n",
      "        L = ligand_conc\n",
      "        return 4*L*lp2**2*k1 - 4*L*lp2*Pt*k1 + L*Pt**2*k1 - lp2*k2\n",
      "    \n",
      "    solns=[]\n",
      "    for l in ligand_range:\n",
      "        ligand_conc = l\n",
      "        y=scipy.optimize.newton(model_func, [5])\n",
      "        print(y)\n",
      "        solns.append(y)\n",
      "    return solns\n",
      "    \n",
      "    #solns=[]\n",
      "    #for ligand_conc in ligand_range:\n",
      "    #    x = scipy.optimize.broyden1(model_func, [5])\n",
      "    #    print(x)\n",
      "        #solns.append(scipy.optimize.broyden1(model_func, [1]))\n",
      "    #return solns\n",
      "\n",
      "\n",
      "start_conc = 1\n",
      "end_conc = 10\n",
      "conc_steps = 10\n",
      "conc_range = np.linspace(start_conc, end_conc, conc_steps)\n",
      "\n",
      "fitted = fit_model(conc_range, total_protein=10, forward_rate_constant=1e6)\n",
      "print(fitted)"
     ],
     "language": "python",
     "metadata": {},
     "outputs": []
    },
    {
     "cell_type": "code",
     "collapsed": false,
     "input": [
      "#The equilibrium expression for our binding is thus:\n",
      "k1, p, l, lp2, = symbols('k1, P, L, L.P2')\n",
      "\n",
      "eq_expr = k1 * p ** 2 * l - lp2\n",
      "\n",
      "#k1, k2, and [L] (we assume) are fixed constants\n",
      "#[P]free we don't know, but we know [P]Total and can measure [L.P2]\n",
      "#[P]free = [P]Total - 2[L.P2]\n",
      "pt = symbols('Pt')\n",
      "eq_expr = eq_expr.subs(p, pt - 2 * lp2)\n",
      "\n",
      "#The values are normalized to nanomolar units\n",
      "\n",
      "#The ratio of k1 to k2 predict our values of lp2!\n",
      "eq_soln = eq_expr.subs(k1, S(100))  # Forward rate constant\n",
      "#eq_soln = eq_soln.subs(k2, S(1))  # Reverse rate constant\n",
      "eq_soln = eq_soln.subs(pt, S(100))  # Total Protein\n",
      "\n",
      "#Let's plot a range of ligand concentrations\n",
      "start_conc = 0\n",
      "end_conc = 10000\n",
      "conc_steps = 50\n",
      "conc_range = np.linspace(start_conc, end_conc, conc_steps)\n",
      "\n",
      "#Create the plot\n",
      "plot = pl.figure().add_subplot(111)\n",
      "\n",
      "solns = [solve(eq_soln.subs(S(l), lig_conc), lp2)[0] for lig_conc in conc_range]\n",
      "\n",
      "plot.plot(conc_range, solns)\n",
      "plot.set_ylabel('[L.P2]')\n",
      "plot.set_xlabel(r'Ligand')\n",
      "plot.grid()\n"
     ],
     "language": "python",
     "metadata": {},
     "outputs": []
    },
    {
     "cell_type": "code",
     "collapsed": false,
     "input": [
      "#The equilibrium expression for our binding is thus:\n",
      "keq, p, l, lp2, = symbols('keq, p, l, lp2')\n",
      "\n",
      "eq_expr = keq * p ** 2 * l - lp2\n",
      "\n",
      "#[P]free = [P]Total - 2[LP2]\n",
      "pt = symbols('pt')\n",
      "eq_expr = eq_expr.subs(p, pt - 2 * lp2)\n",
      "\n",
      "#The ratio of k1 to k2 predict our values of lp2!\n",
      "eq_soln = eq_expr.subs(pt, 100)  # Total Protein\n",
      "eq_soln0 = eq_soln.subs(keq, S(10))  # Keq\n",
      "eq_soln1 = eq_soln.subs(keq, S(100))  # Keq\n",
      "eq_soln2 = eq_soln.subs(keq, S(1000))  # Keq\n",
      "eq_soln3 = eq_soln.subs(keq, S(10000))  # Keq\n",
      "eq_soln4 = eq_soln.subs(keq, S(100000))  # Keq\n",
      "\n",
      "\n",
      "#Let's plot a range of ligand concentrations\n",
      "start_conc = 100\n",
      "end_conc = 100e3\n",
      "conc_steps = 100\n",
      "conc_range = np.linspace(start_conc, end_conc, conc_steps)\n",
      "\n",
      "#Create the plot\n",
      "plot = pl.figure().add_subplot(111)\n",
      "\n",
      "solns0 = [solve(eq_soln1.subs(S(l), lig_conc), lp2)[0] for lig_conc in conc_range]\n",
      "solns1 = [solve(eq_soln1.subs(S(l), lig_conc), lp2)[0] for lig_conc in conc_range]\n",
      "solns2 = [solve(eq_soln2.subs(S(l), lig_conc), lp2)[0] for lig_conc in conc_range]\n",
      "solns3 = [solve(eq_soln3.subs(S(l), lig_conc), lp2)[0] for lig_conc in conc_range]\n",
      "solns4 = [solve(eq_soln3.subs(S(l), lig_conc), lp2)[0] for lig_conc in conc_range]\n",
      "\n",
      "plot.plot(conc_range, solns0, label='Keq=10')\n",
      "plot.plot(conc_range, solns1, label='Keq=100')\n",
      "plot.plot(conc_range, solns2, label='Keq=1000')\n",
      "plot.plot(conc_range, solns3, label='Keq=10000')\n",
      "plot.plot(conc_range, solns4, label='Keq=100000')\n",
      "plot.set_ylabel('[LP2] at Equilibrium')\n",
      "plot.set_xlabel(r'[Ligand]')\n",
      "plot.legend(loc='lower right')\n",
      "#plot.set_ylim(4.9, 5)\n",
      "plot.grid()\n"
     ],
     "language": "python",
     "metadata": {},
     "outputs": []
    },
    {
     "cell_type": "code",
     "collapsed": false,
     "input": [
      "#The equilibrium expression for our binding is thus:\n",
      "keq, p, l, lp2, = symbols('keq, p, l, lp2')\n",
      "\n",
      "eq_expr = keq * p ** 2 * l - lp2\n",
      "\n",
      "#[P]free = [P]Total - 2[LP2]\n",
      "pt = symbols('pt')\n",
      "eq_expr = eq_expr.subs(p, pt - 2 * lp2)\n",
      "\n",
      "#The ratio of k1 to k2 predict our values of lp2!\n",
      "eq_soln = eq_expr.subs(pt, 50)  # Total Protein (nM)\n",
      "eq_soln0 = eq_soln.subs(keq, S(10))  # Keq\n",
      "eq_soln1 = eq_soln.subs(keq, S(100))  # Keq\n",
      "eq_soln2 = eq_soln.subs(keq, S(1000))  # Keq\n",
      "eq_soln3 = eq_soln.subs(keq, S(10000))  # Keq\n",
      "eq_soln4 = eq_soln.subs(keq, S(100000))  # Keq\n",
      "\n",
      "\n",
      "#Let's plot a range of ligand concentrations\n",
      "start_conc = 0  # (nM)\n",
      "end_conc = 10  # (nM)\n",
      "conc_steps = 100\n",
      "conc_range = np.linspace(start_conc, end_conc, conc_steps)\n",
      "\n",
      "#Create the plot\n",
      "plot = pl.figure().add_subplot(111)\n",
      "\n",
      "solns0 = [solve(eq_soln1.subs(S(l), lig_conc), lp2)[0] for lig_conc in conc_range]\n",
      "solns1 = [solve(eq_soln1.subs(S(l), lig_conc), lp2)[0] for lig_conc in conc_range]\n",
      "solns2 = [solve(eq_soln2.subs(S(l), lig_conc), lp2)[0] for lig_conc in conc_range]\n",
      "solns3 = [solve(eq_soln3.subs(S(l), lig_conc), lp2)[0] for lig_conc in conc_range]\n",
      "solns4 = [solve(eq_soln3.subs(S(l), lig_conc), lp2)[0] for lig_conc in conc_range]\n",
      "\n",
      "plot.plot(conc_range, solns0, label='Keq=10')\n",
      "plot.plot(conc_range, solns1, label='Keq=100')\n",
      "plot.plot(conc_range, solns2, label='Keq=1000')\n",
      "plot.plot(conc_range, solns3, label='Keq=10000')\n",
      "plot.plot(conc_range, solns4, label='Keq=100000')\n",
      "plot.set_ylabel('[LP2] at Equilibrium')\n",
      "plot.set_xlabel(r'[Ligand]')\n",
      "plot.legend(loc='lower right')\n",
      "plot.grid()\n"
     ],
     "language": "python",
     "metadata": {},
     "outputs": []
    },
    {
     "cell_type": "code",
     "collapsed": false,
     "input": [
      "#The equilibrium expression for our binding is thus:\n",
      "keq, p, l, lp2, = symbols('keq, p, l, lp2')\n",
      "\n",
      "eq_expr = keq * p ** 2 * l - lp2\n",
      "\n",
      "#[P]free = [P]Total - 2[LP2]\n",
      "pt = symbols('pt')\n",
      "eq_expr = eq_expr.subs(p, pt - 2 * lp2)\n",
      "\n",
      "#The ratio of k1 to k2 predict our values of lp2!\n",
      "eq_soln = eq_expr.subs(pt, 50)  # Total Protein (nM)\n",
      "eq_soln0 = eq_soln.subs(keq, S(10))  # Keq\n",
      "eq_soln1 = eq_soln.subs(keq, S(100))  # Keq\n",
      "eq_soln2 = eq_soln.subs(keq, S(1000))  # Keq\n",
      "eq_soln3 = eq_soln.subs(keq, S(10000))  # Keq\n",
      "eq_soln4 = eq_soln.subs(keq, S(100000))  # Keq\n",
      "\n",
      "\n",
      "#Let's plot a range of ligand concentrations\n",
      "start_conc = 10  # (nM)\n",
      "end_conc = 1000  # (nM)\n",
      "conc_steps = 100\n",
      "conc_range = np.linspace(start_conc, end_conc, conc_steps)\n",
      "\n",
      "#Create the plot\n",
      "plot = pl.figure().add_subplot(111)\n",
      "\n",
      "solns0 = [solve(eq_soln1.subs(S(l), lig_conc), lp2)[0] for lig_conc in conc_range]\n",
      "solns1 = [solve(eq_soln1.subs(S(l), lig_conc), lp2)[0] for lig_conc in conc_range]\n",
      "solns2 = [solve(eq_soln2.subs(S(l), lig_conc), lp2)[0] for lig_conc in conc_range]\n",
      "solns3 = [solve(eq_soln3.subs(S(l), lig_conc), lp2)[0] for lig_conc in conc_range]\n",
      "solns4 = [solve(eq_soln3.subs(S(l), lig_conc), lp2)[0] for lig_conc in conc_range]\n",
      "\n",
      "plot.plot(conc_range, solns0, label='Keq=10')\n",
      "plot.plot(conc_range, solns1, label='Keq=100')\n",
      "plot.plot(conc_range, solns2, label='Keq=1000')\n",
      "plot.plot(conc_range, solns3, label='Keq=10000')\n",
      "plot.plot(conc_range, solns4, label='Keq=100000')\n",
      "plot.set_ylabel('[LP2] at Equilibrium')\n",
      "plot.set_xlabel(r'[Ligand]')\n",
      "plot.legend(loc='lower right')\n",
      "plot.grid()\n"
     ],
     "language": "python",
     "metadata": {},
     "outputs": []
    },
    {
     "cell_type": "heading",
     "level": 4,
     "metadata": {},
     "source": [
      "1) Sequential Monomer Model"
     ]
    },
    {
     "cell_type": "markdown",
     "metadata": {},
     "source": [
      "The first addition of P is second order; the first removal of P is first order.\n",
      "\n",
      "$$r_{1} = k_{1}[P][L]$$\n",
      "$$r_{-1} = k_{-1}[L \\bullet P]$$\n",
      "\n",
      "The second addition of P is second order; the second removal of P is first order.\n",
      "\n",
      "$$r_{1} = k_{2}[P][L \\bullet P]$$\n",
      "$$r_{-1} = k_{-2}[L \\bullet P_{2}]$$"
     ]
    },
    {
     "cell_type": "markdown",
     "metadata": {},
     "source": [
      "The equilibrium constants can then be described as:\n",
      "\n",
      "$$\n",
      "\\begin{align}\n",
      "K_{Eq1} = \\frac{k_{1}}{k_{-1}} = \\frac{[L \\bullet P]}{[P][L]} &, K_{D1} = \\frac{k_{-1}}{k_{1}} = \\frac{[P][L]}{[L \\bullet P]} \\\\\n",
      "K_{Eq2} = \\frac{k_{2}}{k_{-2}} = \\frac{[L \\bullet P_{2}]}{[P][L \\bullet P]} &, K_{D2} = \\frac{k_{-2}}{k_{2}} = \\frac{[P][L \\bullet P]}{[L \\bullet P_{2}]}\n",
      "\\end{align}\n",
      "$$"
     ]
    },
    {
     "cell_type": "code",
     "collapsed": false,
     "input": [],
     "language": "python",
     "metadata": {},
     "outputs": []
    }
   ],
   "metadata": {}
  }
 ]
}