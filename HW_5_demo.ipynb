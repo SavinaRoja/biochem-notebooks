{
 "metadata": {
  "name": "HW_5_demo"
 },
 "nbformat": 3,
 "nbformat_minor": 0,
 "worksheets": [
  {
   "cells": [
    {
     "cell_type": "heading",
     "level": 2,
     "metadata": {},
     "source": [
      "Homework 5"
     ]
    },
    {
     "cell_type": "code",
     "collapsed": false,
     "input": [
      "#Setup first, as always\n",
      "%pylab inline\n",
      "import numpy as np\n",
      "import pylab as pl"
     ],
     "language": "python",
     "metadata": {},
     "outputs": []
    },
    {
     "cell_type": "markdown",
     "metadata": {},
     "source": [
      "1) You are investigating the binding of dinitrophenyl (DNP) to an Fv fragment of an antibody using equilibrium dialysis. You place the Fv fragment, at a concentration of 5 \u03bcM ($\\mu M = 10^{-6}M$), inside the\n",
      "dialysis bag and obtain the binding data in three separate experiments; data in table below."
     ]
    },
    {
     "cell_type": "raw",
     "metadata": {},
     "source": [
      "Experiment # | [DNP]_outside | [DNP]_inside \n",
      "-------------+---------------+--------------\n",
      "     1       |    0.01 uM    |   0.465 uM   \n",
      "     2       |    0.10 uM    |   2.600 uM   \n",
      "     3       |    1.00 uM    |   5.550 uM   "
     ]
    },
    {
     "cell_type": "markdown",
     "metadata": {},
     "source": [
      "In the above table [DNP]outside refers to the equilibrium concentration of DNP outside of the dialysis bag.\n",
      "[DNP]inside refers to the total concentration of DNP inside the dialysis bag after equilibrium has been attained."
     ]
    },
    {
     "cell_type": "markdown",
     "metadata": {},
     "source": [
      "i) Calculate the concentration of bound DNP ([ML]) inside the dialysis bag for all three experiments (2 pts)."
     ]
    },
    {
     "cell_type": "markdown",
     "metadata": {},
     "source": [
      "**The amount of bound DNP should account for the difference in concentration between [DNP]_inside and [DNP]_outside the bag.**\n",
      "\n",
      "**So for each experiment we can calculate bound [DNP], [Fv-DNP].** $[F_{v}\\bullet DNP]=[DNP]_{inside}-[DNP]_{outside}$"
     ]
    },
    {
     "cell_type": "code",
     "collapsed": false,
     "input": [
      "#Let's make arrays of our data\n",
      "dnp_out = np.array([0.01, 0.10, 1.00])\n",
      "dnp_ins = np.array([0.465, 2.600, 5.550])"
     ],
     "language": "python",
     "metadata": {},
     "outputs": []
    },
    {
     "cell_type": "code",
     "collapsed": false,
     "input": [
      "#Now that we have these arrays, we can calculate [Fv-DNP]\n",
      "fv_dnp = dnp_ins - dnp_out\n",
      "\n",
      "for i in fv_dnp:\n",
      "    print(i)\n"
     ],
     "language": "python",
     "metadata": {},
     "outputs": []
    },
    {
     "cell_type": "raw",
     "metadata": {},
     "source": [
      "#I will update the table with these values, but this is just bookkeeping for clarity. All of our working values are stored in Python.\n",
      "\n",
      "\n",
      "Experiment # | [DNP]_outside | [DNP]_inside |  [Fv-DNP]  \n",
      "-------------+---------------+--------------+------------\n",
      "     1       |    0.01 uM    |   0.465 uM   |  0.455 uM  \n",
      "     2       |    0.10 uM    |   2.600 uM   |  2.500 uM  \n",
      "     3       |    1.00 uM    |   5.550 uM   |  4.550 uM  "
     ]
    },
    {
     "cell_type": "markdown",
     "metadata": {},
     "source": [
      "ii) Using these values calculate the fractional saturation (Y) at the three ligand concentrations used in these experiments and use these values to plot a binding curve (part iii) and a Hill plot (part iv) (2 pts)"
     ]
    },
    {
     "cell_type": "markdown",
     "metadata": {},
     "source": [
      "**Y is the fraction of macromolecule bound to ligand out of the total concentration of macromolecule.**\n",
      "\n",
      "$$Y=\\frac{[F_{v}\\bullet DNP]}{[F_{v}]+[F_{v}\\bullet DNP]}$$\n",
      "\n",
      "\n",
      "$[F_{v}]+[F_{v}\\bullet DNP] = 5\\mu M$ for all experiments.\n",
      "\n",
      "$$Y=\\frac{[F_{v}\\bullet DNP]}{5\\mu M}$$"
     ]
    },
    {
     "cell_type": "code",
     "collapsed": false,
     "input": [
      "exper_y = fv_dnp / 5\n",
      "\n",
      "print(exper_y)"
     ],
     "language": "python",
     "metadata": {},
     "outputs": []
    },
    {
     "cell_type": "raw",
     "metadata": {},
     "source": [
      "Experiment # | [DNP]_outside | [DNP]_inside |  [Fv-DNP]  |   Y    \n",
      "------------------------------------------------------------------\n",
      "     1       |    0.01 uM    |   0.465 uM   |  0.455 uM  | 0.091  \n",
      "     2       |    0.10 uM    |   2.600 uM   |  2.500 uM  | 0.500  \n",
      "     3       |    1.00 uM    |   5.550 uM   |  4.550 uM  | 0.910  "
     ]
    },
    {
     "cell_type": "code",
     "collapsed": false,
     "input": [
      "#We can plot our binding curve from Y and [DNP]_outside\n",
      "\n",
      "#Chart Stuff\n",
      "fig = pl.figure()\n",
      "axes = fig.add_axes([0, 0, 1, 1]) # lower, bottom, width, height (range 0 to 1)\n",
      "axes.plot(dnp_out, exper_y, 'o')  # plot(x=[L], y=Y)\n",
      "axes.set_xlim(0, 1.1)\n",
      "axes.set_yticks(np.arange(0, 1, .1))\n",
      "axes.set_xlabel(r'[DNP] (uM)', fontsize=18)\n",
      "axes.set_ylabel(r'Y', fontsize=18)\n",
      "axes.set_title(r'Binding Curve', fontsize=22)"
     ],
     "language": "python",
     "metadata": {},
     "outputs": []
    },
    {
     "cell_type": "code",
     "collapsed": false,
     "input": [
      "#Hill Plot Y-axis is log(y/1-y)\n",
      "hill_y  = log10(exper_y / (1 - exper_y))\n",
      "\n",
      "#Hill Plot X-axis is log([L]); log([DNP]) in this case.\n",
      "hill_x = log10(dnp_out)\n",
      "\n",
      "print(hill_y)\n",
      "print(hill_x)"
     ],
     "language": "python",
     "metadata": {},
     "outputs": []
    },
    {
     "cell_type": "raw",
     "metadata": {},
     "source": []
    },
    {
     "cell_type": "code",
     "collapsed": false,
     "input": [],
     "language": "python",
     "metadata": {},
     "outputs": []
    }
   ],
   "metadata": {}
  }
 ]
}