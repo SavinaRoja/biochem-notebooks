{
 "metadata": {
  "name": "HW_5_demo"
 },
 "nbformat": 3,
 "nbformat_minor": 0,
 "worksheets": [
  {
   "cells": [
    {
     "cell_type": "heading",
     "level": 2,
     "metadata": {},
     "source": [
      "Homework 5"
     ]
    },
    {
     "cell_type": "code",
     "collapsed": false,
     "input": [
      "#Setup first, as always\n",
      "%pylab inline\n",
      "import numpy as np\n",
      "import pylab as pl\n",
      "from scipy.optimize import curve_fit"
     ],
     "language": "python",
     "metadata": {},
     "outputs": []
    },
    {
     "cell_type": "heading",
     "level": 3,
     "metadata": {},
     "source": [
      "Problem 1"
     ]
    },
    {
     "cell_type": "markdown",
     "metadata": {},
     "source": [
      "You are investigating the binding of dinitrophenyl (DNP) to an Fv fragment of an antibody using equilibrium dialysis. You place the Fv fragment, at a concentration of 5 \u03bcM ($\\mu M = 10^{-6}M$), inside the\n",
      "dialysis bag and obtain the binding data in three separate experiments; data in table below."
     ]
    },
    {
     "cell_type": "markdown",
     "metadata": {},
     "source": [
      "    Experiment # | [DNP]_outside | [DNP]_inside |  [Fv-DNP]  |   Y    \n",
      "    ------------------------------------------------------------------\n",
      "         1       |    0.01 uM    |   0.465 uM   |            |        \n",
      "         2       |    0.10 uM    |   2.600 uM   |            |        \n",
      "         3       |    1.00 uM    |   5.550 uM   |            |        "
     ]
    },
    {
     "cell_type": "markdown",
     "metadata": {},
     "source": [
      "In the above table [DNP]outside refers to the equilibrium concentration of DNP outside of the dialysis bag.\n",
      "[DNP]inside refers to the total concentration of DNP inside the dialysis bag after equilibrium has been attained."
     ]
    },
    {
     "cell_type": "markdown",
     "metadata": {},
     "source": [
      "i) Calculate the concentration of bound DNP ([ML]) inside the dialysis bag for all three experiments."
     ]
    },
    {
     "cell_type": "markdown",
     "metadata": {},
     "source": [
      "**The amount of bound DNP should account for the difference in concentration between [DNP]_inside and [DNP]_outside the bag.**\n",
      "\n",
      "**So for each experiment we can calculate bound [DNP], [Fv-DNP].** $[F_{v}\\bullet DNP]=[DNP]_{inside}-[DNP]_{outside}$"
     ]
    },
    {
     "cell_type": "code",
     "collapsed": false,
     "input": [
      "#Let's make arrays of our data\n",
      "dnp_out = np.array([0.01, 0.10, 1.00])  # [DNP]_outside\n",
      "dnp_ins = np.array([0.465, 2.600, 5.550])  # [DNP]_inside\n",
      "\n",
      "#Now that we have these arrays, we can calculate [Fv-DNP]\n",
      "fv_dnp = dnp_ins - dnp_out  # Array for [Fv-DNP]\n",
      "\n",
      "for i in fv_dnp:\n",
      "    print(i)"
     ],
     "language": "python",
     "metadata": {},
     "outputs": []
    },
    {
     "cell_type": "markdown",
     "metadata": {},
     "source": [
      "    Experiment # | [DNP]_outside | [DNP]_inside |  [Fv-DNP]  |   Y    \n",
      "    ------------------------------------------------------------------\n",
      "         1       |    0.01 uM    |   0.465 uM   |  0.455 uM  |        \n",
      "         2       |    0.10 uM    |   2.600 uM   |  2.500 uM  |        \n",
      "         3       |    1.00 uM    |   5.550 uM   |  4.550 uM  |        "
     ]
    },
    {
     "cell_type": "markdown",
     "metadata": {},
     "source": [
      "ii) Using these values calculate the fractional saturation (Y) at the three ligand concentrations given in these experiments.\n"
     ]
    },
    {
     "cell_type": "markdown",
     "metadata": {},
     "source": [
      "**Y is the fraction of macromolecule bound to ligand out of the total concentration of macromolecule.**\n",
      "\n",
      "$$Y=\\frac{[F_{v}\\bullet DNP]}{[F_{v}]+[F_{v}\\bullet DNP]}$$\n",
      "\n",
      "\n",
      "$[F_{v}]+[F_{v}\\bullet DNP] = 5\\mu M$ for all experiments.\n",
      "\n",
      "$$Y=\\frac{[F_{v}\\bullet DNP]}{5\\mu M}$$"
     ]
    },
    {
     "cell_type": "code",
     "collapsed": false,
     "input": [
      "exper_y = fv_dnp / 5\n",
      "\n",
      "for i in exper_y:\n",
      "    print(i)"
     ],
     "language": "python",
     "metadata": {},
     "outputs": []
    },
    {
     "cell_type": "markdown",
     "metadata": {},
     "source": [
      "    Experiment # | [DNP]_outside | [DNP]_inside |  [Fv-DNP]  |   Y    \n",
      "    ------------------------------------------------------------------\n",
      "         1       |    0.01 uM    |   0.465 uM   |  0.455 uM  | 0.091  \n",
      "         2       |    0.10 uM    |   2.600 uM   |  2.500 uM  | 0.500  \n",
      "         3       |    1.00 uM    |   5.550 uM   |  4.550 uM  | 0.910  "
     ]
    },
    {
     "cell_type": "markdown",
     "metadata": {},
     "source": [
      "iii) Determine the dissociation constant (KD) of DNP from the Fv using a binding curve.\n"
     ]
    },
    {
     "cell_type": "code",
     "collapsed": false,
     "input": [
      "#We can plot our binding curve using values for Y and [DNP]_outside\n",
      "\n",
      "#Chart Stuff\n",
      "fig = pl.figure()\n",
      "axes = fig.add_axes([0, 0, 1, 1]) # lower, bottom, width, height (range 0 to 1)\n",
      "axes.set_xlim(0, 1.1)\n",
      "axes.set_ylim(0, 1.0)\n",
      "axes.set_yticks(np.arange(0, 1, .1))\n",
      "axes.set_xlabel(r'[DNP] (uM)', fontsize=18)\n",
      "axes.set_ylabel(r'Y', fontsize=18)\n",
      "axes.set_title(r'Binding Curve', fontsize=22)\n",
      "#Plot data points\n",
      "axes.plot(dnp_out, exper_y, 'o')  # plot(x=[L], y=Y)\n",
      "\n",
      "\n",
      "#This is one way to do the fitting: using scipy.optimize.curve_fit\n",
      "def calc_y(ligand, Kd):\n",
      "    '''Calculates Y from free ligand concentration and Kd'''\n",
      "    return(ligand / (ligand + Kd))\n",
      "\n",
      "ligand_range = np.linspace(0, 1.1, 200)  # A range of points for the curve\n",
      "popt, pcov = curve_fit(calc_y, dnp_out, exper_y)  # Fit the data using experimental data\n",
      "axes.plot(ligand_range, calc_y(ligand_range, *popt), 'r-', label=\"Fitted Curve\")  # Plot\n",
      "print('The fitted Kd is {0} uM'.format(popt[0]))  # Print it out"
     ],
     "language": "python",
     "metadata": {},
     "outputs": []
    },
    {
     "cell_type": "markdown",
     "metadata": {},
     "source": [
      "**There is a data point at exactly Y = 0.5, so it is tempting to simply use that datum as the Kd. This dataset is intentionally ideal, but real experiments are never so fortunate. It is best to fit your model to the entire dataset to reduce the experimental error.**"
     ]
    },
    {
     "cell_type": "markdown",
     "metadata": {},
     "source": [
      "iv) Determine the dissociation constant using a Hill plot."
     ]
    },
    {
     "cell_type": "markdown",
     "metadata": {},
     "source": [
      "To make the Hill plot, we will plot $log(\\frac{Y}{1-Y})$ vs. $log{[L]}$. We'll go ahead and use Molar units instead of micromolar on the plot. The x-intercept of the Hill plot reveals the Kd_average of the binding. The slope of the line at the x-intercept reveals the Hill coefficient, $n_{h}$, for the cooperativity of binding."
     ]
    },
    {
     "cell_type": "code",
     "collapsed": false,
     "input": [
      "#Convert the units from uM to M\n",
      "dnp_out_molar = dnp_out / 1000000\n",
      "\n",
      "#We'll use these functions a lot for making Hill Plots\n",
      "def calc_hill_x(ligand):\n",
      "    '''\n",
      "    Computes log10(L), the x-axis component of a Hill plot.\n",
      "    \n",
      "    Ensure that you pass ligand concentration values to this \n",
      "    function.\n",
      "    '''\n",
      "    return(log10(ligand))\n",
      "\n",
      "def calc_hill_y(frac_sat):\n",
      "    '''\n",
      "    Computes log10(Y/1-Y), the y-axis component of a Hill plot.\n",
      "    \n",
      "    Ensure that you pass Y, fractional saturation, values to this\n",
      "    function.\n",
      "    '''\n",
      "    return(log10(frac_sat / (1-frac_sat)))\n",
      "\n",
      "#Get log base 10 values of this for the hill plot x-axis: log([L])\n",
      "hill_x = calc_hill_x(dnp_out_molar)\n",
      "print(hill_x)\n",
      "\n",
      "#Hill Plot Y-axis is log(y/1-y)\n",
      "hill_y = calc_hill_y(exper_y)\n",
      "print(hill_y)"
     ],
     "language": "python",
     "metadata": {},
     "outputs": []
    },
    {
     "cell_type": "code",
     "collapsed": false,
     "input": [
      "# Hill Plot\n",
      "fig = pl.figure()\n",
      "axes = fig.add_axes([0, 0, 1, 1]) # lower, bottom, width, height (range 0 to 1)\n",
      "axes.set_xlim(-8, -6)\n",
      "axes.set_ylim(-1.5, 1.5)\n",
      "#axes.set_yticks(np.arange(0, 1, .1))\n",
      "axes.set_xlabel(r'log([DNP]) (M)', fontsize=18)\n",
      "axes.set_ylabel(r'log(Y/1-y)', fontsize=18)\n",
      "axes.set_title(r'Hill Plot', fontsize=22)\n",
      "axes.grid(b=True, which='major', linestyle='--')\n",
      "#Plot data points\n",
      "axes.plot(hill_x, hill_y, 'o')  # plot(x=log([L]), y=log(Y/1-Y))\n",
      "\n",
      "#Let's fit this linear data and draw it on the plot\n",
      "p = np.polyfit(hill_x, hill_y, 1)  # First order polynomial fit\n",
      "axes.plot(hill_x, np.polyval(p, hill_x))  # numpy.polyval is useful\n",
      "\n",
      "#Calculate the x-intercept\n",
      "x_intercept = (-1 * p[1]) / p[0]\n",
      "\n",
      "#Calculate the Kd\n",
      "hill_kd = 10 ** x_intercept\n",
      "\n",
      "print('The equation of the line is: y = {0}x + {1}'.format(*p))\n",
      "print('The x-intercept is then: {0}'.format(x_intercept))\n",
      "print('The Kd from the Hill plot is {0} M'.format(hill_kd))\n",
      "print('Converting to uM, the Hill plot Kd is {0} uM'.format(hill_kd * 1000000))"
     ],
     "language": "python",
     "metadata": {},
     "outputs": []
    },
    {
     "cell_type": "markdown",
     "metadata": {},
     "source": [
      "v) Given what you know about the structure of an Fv fragment, do you expect the binding to be cooperative or non-cooperative? Is your conclusion supported by the Hill plot?"
     ]
    },
    {
     "cell_type": "markdown",
     "metadata": {},
     "source": [
      "**An Fv has only one binding site and thus cannot be cooperative. This is supported by the Hill plot as the slope of the line at the x-intercept was found to be 1, which corresponds to non-cooperative binding.**"
     ]
    },
    {
     "cell_type": "markdown",
     "metadata": {},
     "source": [
      "vi) In what way would your answer to part *v* change if you were performing these measurements using an intact antibody, with its **two** binding sites."
     ]
    },
    {
     "cell_type": "markdown",
     "metadata": {},
     "source": [
      "**The binding sites of an antibody exhibit binding independent of each other. Thus the system would remain non-cooperative as already shown in part *v*.**"
     ]
    },
    {
     "cell_type": "heading",
     "level": 3,
     "metadata": {},
     "source": [
      "Problem 2"
     ]
    },
    {
     "cell_type": "markdown",
     "metadata": {},
     "source": [
      "A drug binds to an enzyme with a Kd of 100 \u03bcM. The enzyme-drug complex is inactive because this drug binds to the active site. The concentration of this drug in a patient's blood is 10 \u03bcM. What % of the enzyme is active under these conditions? (Assume the binding is non-cooperative ).\n"
     ]
    },
    {
     "cell_type": "markdown",
     "metadata": {},
     "source": [
      "**Because the drug is an inactivator, the fraction of active protein will be $1-Y$.**\n",
      "\n",
      "$$Y=\\frac{[L]}{[L]+[K_{D}]}=\\frac{10\\mu M}{10\\mu M + 100\\mu M}=0.09$$\n",
      "\n",
      "$1-Y=0.91$ **, So 91% of protein is active.**"
     ]
    },
    {
     "cell_type": "heading",
     "level": 3,
     "metadata": {},
     "source": [
      "Problem 3"
     ]
    },
    {
     "cell_type": "markdown",
     "metadata": {},
     "source": [
      "This problem investigates the effects of changing the dissociation constants on the degree of cooperativity for a protein that binds two identical ligands. You may find it useful to download the EXCEL spreadsheet for this problem: [www.andrew.cmu.edu/user/rule/bc_oli/Pset/PS05/ps5_Q3.xls](http://www.andrew.cmu.edu/user/rule/bc_oli/Pset/PS05/ps5_Q3.xls) (**Everything in the spreadsheet will be covered here, however you may be interested in comparing this approach to the Excel.**)\n"
     ]
    },
    {
     "cell_type": "heading",
     "level": 4,
     "metadata": {},
     "source": [
      "Part 1"
     ]
    },
    {
     "cell_type": "markdown",
     "metadata": {},
     "source": [
      "Change the values of microscopic Kd1 and Kd2 (cells F2 and G2 on spread sheet) to the values shown on the right and determine the following. Before you begin, think whether you expect the binding to be cooperative or non-cooperative, based on the differences between the two KD values. Note that the horizontal units are \u03bcM for the binding curve and log(M) for the Hill plot. The Kd values entered for the various questions are in \u03bcM, i.e. entering 10 in cell F2 is really 10 \u03bcM."
     ]
    },
    {
     "cell_type": "markdown",
     "metadata": {},
     "source": [
      "       |  Kd 1  |  Kd 2  |  nh  | Kd average \n",
      "    ---+--------+--------+------+------------\n",
      "     A |  10 uM |  10 uM |      |            \n",
      "     B | 100 uM | 100 uM |      |            "
     ]
    },
    {
     "cell_type": "markdown",
     "metadata": {},
     "source": [
      "$$Y=\\frac{K_{A1}K_{A2}[L]^{2}+\\frac{1}{2}K_{A1}[L]}{1+K_{A1}K_{A2}[L]^{2}+K_{A1}[L]}=\\frac{\\frac{1}{K_{D1}}\\frac{1}{K_{D2}}[L]^{2}+\\frac{1}{2K_{D1}}[L]}{1+\\frac{1}{K_{D1}}\\frac{1}{K_{D2}}[L]^{2}+\\frac{1}{K_{D1}}[L]}$$\n",
      "\n",
      "$$K_{D1}=\\frac{1}{2}K_{D1}^{\\mu}, K_{D2}=2K_{D2}^{\\mu}$$\n",
      "\n",
      "$$\\therefore Y=\\frac{\\frac{1}{K_{D1}^{\\mu}}\\frac{1}{K_{D2}^{\\mu}}[L]^{2}+\\frac{1}{K_{D1}^{\\mu}}[L]}{1+\\frac{1}{K_{D1}^{\\mu}}\\frac{1}{K_{D2}^{\\mu}}[L]^{2}+\\frac{2}{K_{D1}^{\\mu}}[L]}$$"
     ]
    },
    {
     "cell_type": "code",
     "collapsed": false,
     "input": [
      "#The first job is to prepare the data set for Hill plots\n",
      "#As shown above, Y will depend on the specific Kd-micro values\n",
      "\n",
      "def twositefractionalsaturation(free_ligand, kd_micro_one, kd_micro_two):\n",
      "    '''\n",
      "    Calculates the fractional saturation, Y, for two site ligand binding with\n",
      "    possible cooperativity.\n",
      "\n",
      "    Kd values should be microscopic.\n",
      "    '''\n",
      "    num = (1.0 / kd_micro_one) * (1.0 / kd_micro_two) * (free_ligand ** 2) + (1.0 / kd_micro_one) * (free_ligand)\n",
      "    den = 1 + (1.0 / kd_micro_one) * (1.0 / kd_micro_two) * (free_ligand ** 2) + (2.0 / kd_micro_one) * (free_ligand)\n",
      "    return(num / den)\n",
      "\n",
      "#Define our variables\n",
      "ligand = np.array([1, 2, 3, 4, 5, 10, 20, 50, 100, 200])  # [L]\n",
      "a_kd_1 = 10  # Kd 1 for A\n",
      "a_kd_2 = 10  # Kd 2 for A\n",
      "b_kd_1 = 100  # Kd 1 for B\n",
      "b_kd_2 = 100  # Kd 2 for B\n",
      "\n",
      "#Get fractional saturation for both A and B\n",
      "a_Y = twositefractionalsaturation(ligand, a_kd_1, a_kd_2)\n",
      "b_Y = twositefractionalsaturation(ligand, b_kd_1, b_kd_2)\n",
      "\n",
      "#Calculate values for Hill plot axes\n",
      "hill_x = calc_hill_x(ligand)\n",
      "a_hill_y = calc_hill_y(a_Y)\n",
      "b_hill_y = calc_hill_y(b_Y)"
     ],
     "language": "python",
     "metadata": {},
     "outputs": []
    },
    {
     "cell_type": "code",
     "collapsed": false,
     "input": [
      "#Now we can make our Hill plots\n",
      "# Hill Plot\n",
      "fig = pl.figure()\n",
      "axes = fig.add_axes([0, 0, 1, 1]) # lower, bottom, width, height (range 0 to 1)\n",
      "axes.set_xlabel(r'log([DNP]) (M)', fontsize=18)\n",
      "axes.set_ylabel(r'log(Y/1-y)', fontsize=18)\n",
      "axes.set_title(r'Hill Plot', fontsize=22)\n",
      "axes.grid(b=True, which='major', linestyle='--')\n",
      "#Plot data points\n",
      "axes.plot(hill_x, a_hill_y, 'o', label='A')  # plot(x=log([L]), y=log(Y/1-Y))\n",
      "axes.plot(hill_x, b_hill_y, 'o', label='B')  # plot(x=log([L]), y=log(Y/1-Y))\n",
      "\n",
      "#Let's fit this linear data and draw it on the plot\n",
      "a_p = np.polyfit(hill_x, a_hill_y, 1)  # First order polynomial fit\n",
      "b_p = np.polyfit(hill_x, b_hill_y, 1)  # First order polynomial fit\n",
      "axes.plot(hill_x, np.polyval(a_p, hill_x), label='A-Fit')  # numpy.polyval is useful\n",
      "axes.plot(hill_x, np.polyval(b_p, hill_x), label='B-Fit')  # numpy.polyval is useful\n",
      "axes.legend(loc='lower right')  # Add a figure legend\n",
      "\n",
      "#Calculate the x-intercept\n",
      "a_x_intercept = (-1 * a_p[1]) / a_p[0]\n",
      "b_x_intercept = (-1 * b_p[1]) / b_p[0]\n",
      "\n",
      "#Calculate the Kd\n",
      "a_hill_kd = 10 ** a_x_intercept\n",
      "b_hill_kd = 10 ** b_x_intercept\n",
      "\n",
      "print('The linear equation for A is: y = {0}x + {1}'.format(*a_p))\n",
      "print('The linear equation for B is: y = {0}x + {1}'.format(*b_p))\n",
      "print('The Kd-average from the Hill plot for A is {0} uM'.format(a_hill_kd))\n",
      "print('The Kd-average from the Hill plot for B is {0} uM'.format(b_hill_kd))"
     ],
     "language": "python",
     "metadata": {},
     "outputs": []
    },
    {
     "cell_type": "markdown",
     "metadata": {},
     "source": [
      "From these plots we can get the Hill coefficient and Kd-average values."
     ]
    },
    {
     "cell_type": "markdown",
     "metadata": {},
     "source": [
      "       |  Kd 1  |  Kd 2  |  nh  | Kd average \n",
      "    ---+--------+--------+------+------------\n",
      "     A |  10 uM |  10 uM |  1   |    10 uM   \n",
      "     B | 100 uM | 100 uM |  1   |   100 uM   "
     ]
    },
    {
     "cell_type": "markdown",
     "metadata": {},
     "source": [
      "i) Is the Hill coefficient consistent with the values of the dissociation constants?"
     ]
    },
    {
     "cell_type": "markdown",
     "metadata": {},
     "source": [
      "**Yes, the Hill coefficient value of 1 indicates noncooperative binding. Considering that the first and second microscopic disassociation constants are the same (seen in both A and B), these show no interdependent change in the affinity for ligand binding.**"
     ]
    },
    {
     "cell_type": "markdown",
     "metadata": {},
     "source": [
      "ii) Sketch the Hill plot for both A and B on the same graph. How do these two plots differ, how are they the same?"
     ]
    },
    {
     "cell_type": "markdown",
     "metadata": {},
     "source": [
      "**Referring to the plots above, we can note that the slopes are identical but the x-intercepts are not. They are both non-cooperative but differ 10-fold in ligand affinity (one unit in log10). B has the lower affinity so it is shifted one unit to the right with respect to A.**"
     ]
    },
    {
     "cell_type": "heading",
     "level": 4,
     "metadata": {},
     "source": [
      "Part 2"
     ]
    },
    {
     "cell_type": "markdown",
     "metadata": {},
     "source": [
      "Change the values of KD1 and KD2 to the values shown on the right and determine for each set of values."
     ]
    },
    {
     "cell_type": "markdown",
     "metadata": {},
     "source": [
      "       |  Kd 1  |  Kd 2  |  nh  | Kd average | [ML]/[M-Tot] @ Y=0.5 \n",
      "    ---+--------+--------+------+------------+----------------------\n",
      "     C |   5 uM |  20 uM |      |            |                      \n",
      "     D |  10 uM |  10 uM |      |            |                      \n",
      "     E |  50 uM |   2 uM |      |            |                      \n",
      "     F | 200 uM | 0.5 uM |      |            |                      "
     ]
    },
    {
     "cell_type": "code",
     "collapsed": false,
     "input": [
      "#Define our variables\n",
      "ligand = np.array([1, 2, 3, 4, 5, 10, 20, 50, 100, 200])  # [L]\n",
      "c_kd_1 = 5  # Kd 1 for C\n",
      "c_kd_2 = 20  # Kd 2 for C\n",
      "d_kd_1 = 10  # Kd 1 for D\n",
      "d_kd_2 = 10  # Kd 2 for D\n",
      "e_kd_1 = 50  # Kd 1 for E\n",
      "e_kd_2 = 2  # Kd 2 for E\n",
      "f_kd_1 = 200  # Kd 1 for E\n",
      "f_kd_2 = 0.5  # Kd 2 for E\n",
      "\n",
      "#Get fractional saturation for both A and B\n",
      "c_Y = twositefractionalsaturation(ligand, c_kd_1, c_kd_2)\n",
      "d_Y = twositefractionalsaturation(ligand, d_kd_1, d_kd_2)\n",
      "e_Y = twositefractionalsaturation(ligand, e_kd_1, e_kd_2)\n",
      "f_Y = twositefractionalsaturation(ligand, f_kd_1, f_kd_2)\n",
      "\n",
      "#Calculate values for Hill plot axes\n",
      "hill_x = calc_hill_x(ligand)\n",
      "c_hill_y = calc_hill_y(c_Y)\n",
      "d_hill_y = calc_hill_y(d_Y)\n",
      "e_hill_y = calc_hill_y(e_Y)\n",
      "f_hill_y = calc_hill_y(f_Y)"
     ],
     "language": "python",
     "metadata": {},
     "outputs": []
    },
    {
     "cell_type": "code",
     "collapsed": false,
     "input": [
      "#We can make new Hill plots to find the hill coefficient and Kd-ave\n",
      "# Hill Plot\n",
      "fig = pl.figure()\n",
      "axes = fig.add_axes([0, 0, 1, 1]) # lower, bottom, width, height (range 0 to 1)\n",
      "axes.set_xlabel(r'log([DNP]) (uM)', fontsize=18)\n",
      "axes.set_ylabel(r'log(Y/1-y)', fontsize=18)\n",
      "axes.set_title(r'Hill Plot', fontsize=22)\n",
      "axes.grid(b=True, which='major', linestyle='--')\n",
      "#Plot data points\n",
      "axes.plot(hill_x, c_hill_y, 'o')  # plot(x=log([L]), y=log(Y/1-Y))\n",
      "axes.plot(hill_x, d_hill_y, 'o')  # plot(x=log([L]), y=log(Y/1-Y))\n",
      "axes.plot(hill_x, e_hill_y, 'o')  # plot(x=log([L]), y=log(Y/1-Y))\n",
      "axes.plot(hill_x, f_hill_y, 'o')  # plot(x=log([L]), y=log(Y/1-Y))\n",
      "\n",
      "#Let's fit this linear data and draw it on the plot\n",
      "c_p = np.polyfit(hill_x, c_hill_y, 1)  # First order polynomial fit\n",
      "d_p = np.polyfit(hill_x, d_hill_y, 1)\n",
      "e_p = np.polyfit(hill_x, e_hill_y, 1)\n",
      "f_p = np.polyfit(hill_x, f_hill_y, 1)\n",
      "axes.plot(hill_x, np.polyval(c_p, hill_x), label='C-Fit')\n",
      "axes.plot(hill_x, np.polyval(d_p, hill_x), label='D-Fit')\n",
      "axes.plot(hill_x, np.polyval(e_p, hill_x), label='E-Fit')\n",
      "axes.plot(hill_x, np.polyval(f_p, hill_x), label='F-Fit')\n",
      "axes.legend(loc='lower right')  # Add a figure legend\n",
      "\n",
      "#Calculate the x-intercept\n",
      "c_x_intercept = (-1 * c_p[1]) / c_p[0]\n",
      "d_x_intercept = (-1 * d_p[1]) / d_p[0]\n",
      "e_x_intercept = (-1 * e_p[1]) / e_p[0]\n",
      "f_x_intercept = (-1 * f_p[1]) / f_p[0]\n",
      "\n",
      "#Calculate the Kd-average\n",
      "c_hill_kd = 10 ** c_x_intercept\n",
      "d_hill_kd = 10 ** d_x_intercept\n",
      "e_hill_kd = 10 ** e_x_intercept\n",
      "f_hill_kd = 10 ** f_x_intercept\n",
      "\n",
      "for each in [('C',c_p), ('D', d_p), ('E', e_p), ('F', f_p)]:\n",
      "    print('The linear equation for {0} is: y = {1}x + {2}'.format(each[0], *each[1]))\n",
      "for each in [('C',c_hill_kd), ('D', d_hill_kd), ('E', e_hill_kd), ('F', f_hill_kd)]:\n",
      "    print('The Kd-average from the Hill plot for {0} is {1} uM'.format(*each))"
     ],
     "language": "python",
     "metadata": {},
     "outputs": []
    },
    {
     "cell_type": "markdown",
     "metadata": {},
     "source": [
      "**We can observe the Kd-average and Hill coefficient for each curve. You may notice that the linear fitting is no longer perfect for this, and in fact you should know that cooperative Hill plot data is not linear. For now we will accept the linear fit's slope as a \"good enough\" approximation of the slope at the x-intercept and enter this into our table.**"
     ]
    },
    {
     "cell_type": "markdown",
     "metadata": {},
     "source": [
      "       |  Kd 1  |  Kd 2  |  nh  | Kd average | [ML]/[M-Tot] @ Y=0.5 \n",
      "    ---+--------+--------+------+------------+----------------------\n",
      "     C |   5 uM |  20 uM | 0.75 |   10 uM    |                      \n",
      "     D |  10 uM |  10 uM | 1.0  |   10 uM    |                      \n",
      "     E |  50 uM |   2 uM | 1.53 |   10 uM    |                      \n",
      "     F | 200 uM | 0.5 uM | 1.82 |   10 uM    |                      "
     ]
    },
    {
     "cell_type": "markdown",
     "metadata": {},
     "source": [
      "iii) How does the fraction of the system in the (ML) form at Y=0.5 change as the cooperativity changes? Which of these four scenarios more closely represents infinite positive cooperativity? Justify your statement based on the Hill coefficient"
     ]
    },
    {
     "cell_type": "markdown",
     "metadata": {},
     "source": [
      "###Derivation\n",
      "\n",
      "In order to calculate the fraction of protein in the ML state. The following derivation is followed (I am representing the term as $J$)\n",
      "\n"
     ]
    },
    {
     "cell_type": "markdown",
     "metadata": {},
     "source": [
      "$$J=\\frac{[ML]}{[M]+[ML]+[ML_{2}]}$$\n",
      "\n",
      "$$K_{A1}=\\frac{[ML]}{[M][L]}, K_{A2}=\\frac{[ML_{2}]}{[ML][L]}$$\n",
      "\n",
      "$$J=\\frac{K_{A1}[M][L]}{[M]+K_{A1}[M][L]+K_{A2}[ML][L]}=\\frac{K_{A1}[M][L]}{[M]+K_{A1}[M][L]+K_{A1}K_{A2}[M][L]^{2}}=\\frac{K_{A1}[L]}{1+K_{A1}[L]+K_{A1}K_{A2}[L]^{2}}$$\n",
      "\n",
      "$$K_{A1}=\\frac{1}{K_{D1}}=\\frac{2}{K_{D1}^{\\mu}}, K_{A2}=\\frac{1}{K_{D2}}=\\frac{1}{2K_{D2}^{\\mu}}$$\n",
      "\n",
      "$$J=\\frac{\\frac{2}{K_{D1}^{\\mu}}[L]}{1+\\frac{2}{K_{D1}^{\\mu}}[L]+\\frac{1}{K_{D1}^{\\mu}}\\frac{1}{K_{D2}^{\\mu}}[L]^{2}}$$"
     ]
    },
    {
     "cell_type": "code",
     "collapsed": false,
     "input": [
      "#Write a function that can calculate J\n",
      "def calc_J(free_ligand, kd_micro_one, kd_micro_two):\n",
      "    '''\n",
      "    Given appropriate microscope dissociation equilibrium constants and ligand\n",
      "    concentration, this will calculate the fraction of macromolecule bound to\n",
      "    only one ligand in a two-site binding system.\n",
      "    '''\n",
      "    num = (2.0 / kd_micro_one) * free_ligand\n",
      "    den = 1.0 + ((2.0 / kd_micro_one) * free_ligand) + ((1.0 / (kd_micro_one * kd_micro_two)) * (free_ligand ** 2))\n",
      "    return(num / den)\n",
      "\n",
      "#Use it to find J when Y = 0.5\n",
      "#Since we know that Kd-average is 10uM for each system, we can use that as [L]\n",
      "#J at y=0.5 for C-F\n",
      "c_J = calc_J(10, 5, 20)\n",
      "d_J = calc_J(10, 10, 10)\n",
      "e_J = calc_J(10, 50, 2)\n",
      "f_J = calc_J(10, 200, 0.5)\n",
      "\n",
      "for each in zip(['C', 'D', 'E', 'F'],[c_J, d_J, e_J, f_J]):\n",
      "    print('[ML]/[M-tot] at Y=0.5 for {0} is: {1}'.format(*each))\n"
     ],
     "language": "python",
     "metadata": {},
     "outputs": []
    },
    {
     "cell_type": "markdown",
     "metadata": {},
     "source": [
      "       |  Kd 1  |  Kd 2  |  nh  | Kd average | [ML]/[M-Tot] @ Y=0.5 \n",
      "    ---+--------+--------+------+------------+----------------------\n",
      "     C |   5 uM |  20 uM | 0.75 |   10 uM    |        0.667         \n",
      "     D |  10 uM |  10 uM | 1.0  |   10 uM    |        0.500         \n",
      "     E |  50 uM |   2 uM | 1.53 |   10 uM    |        0.167         \n",
      "     F | 200 uM | 0.5 uM | 1.82 |   10 uM    |        0.048         "
     ]
    },
    {
     "cell_type": "markdown",
     "metadata": {},
     "source": [
      "**The fraction of the protein in the intermediate state (ML) is higher for the negatively cooperative system because it is harder for a ligand to bind to the remaining empty site\n",
      "to form (ML2).**\n",
      "\n",
      "**The non-cooperative system shows random behavior.**\n",
      "\n",
      "**As the positive cooperativity increases the amount of the intermediate decreases; as the first site is filled, the second binds ligand more readily, increasing [ML2] and decreasing [ML]. In D, the cooperativity is so high that there is essentially no intermediate.**\n"
     ]
    },
    {
     "cell_type": "markdown",
     "metadata": {},
     "source": [
      "iv) How does the shape of the binding curve change for each set of values? What is a more reliable measure of the cooperativity? The shape of the binding curve (hyperbolic or sigmoidal), or the Hill coefficient?"
     ]
    },
    {
     "cell_type": "code",
     "collapsed": false,
     "input": [
      "#Let's plot the binding curves for C, D, E, and F\n",
      "#We've already done the calculations in preparation for the Hill plots\n",
      "#So we can jump right into making plots\n",
      "fig = pl.figure()\n",
      "axes = fig.add_axes([0, 0, 1, 1]) # lower, bottom, width, height (range 0 to 1)\n",
      "axes.set_xlabel(r'[L] (uM)', fontsize=18)\n",
      "axes.set_ylabel(r'Y', fontsize=18)\n",
      "axes.set_title(r'Binding Curve', fontsize=22)\n",
      "#Plot data points\n",
      "axes.plot(ligand, c_Y, 'o', label='C')  # plot(x=[L], y=Y)\n",
      "axes.plot(ligand, d_Y, 'o', label='D')  # plot(x=[L], y=Y)\n",
      "axes.plot(ligand, e_Y, 'o', label='E')  # plot(x=[L], y=Y)\n",
      "axes.plot(ligand, f_Y, 'o', label='F')  # plot(x=[L], y=Y)\n",
      "\n",
      "#Add a figure legend\n",
      "axes.legend(loc='center right')"
     ],
     "language": "python",
     "metadata": {},
     "outputs": []
    },
    {
     "cell_type": "code",
     "collapsed": false,
     "input": [
      "#Hmm, that data looks a little cluttered, let's replace it with fit lines\n",
      "fig = pl.figure()\n",
      "axes = fig.add_axes([0, 0, 1, 1]) # lower, bottom, width, height (range 0 to 1)\n",
      "axes.set_xlabel(r'[L] (uM)', fontsize=18)\n",
      "axes.set_ylabel(r'Y', fontsize=18)\n",
      "axes.set_title(r'Binding Curve', fontsize=22)\n",
      "\n",
      "#Using scipy.optimize.curve_fit for the fits\n",
      "ligand_range = np.linspace(0, 200, 200)  # A range of points for the curve\n",
      "c_popt, c_pcov = curve_fit(twositefractionalsaturation, ligand_range, twositefractionalsaturation(ligand_range, c_kd_1, c_kd_2))\n",
      "d_popt, c_pcov = curve_fit(twositefractionalsaturation, ligand_range, twositefractionalsaturation(ligand_range, d_kd_1, d_kd_2))\n",
      "e_popt, c_pcov = curve_fit(twositefractionalsaturation, ligand_range, twositefractionalsaturation(ligand_range, e_kd_1, e_kd_2))\n",
      "f_popt, c_pcov = curve_fit(twositefractionalsaturation, ligand_range, twositefractionalsaturation(ligand_range, f_kd_1, f_kd_2))\n",
      "\n",
      "#Plot fit lines instead\n",
      "axes.plot(ligand_range, twositefractionalsaturation(ligand_range, *c_popt), '-', label=\"C-Fitted\")\n",
      "axes.plot(ligand_range, twositefractionalsaturation(ligand_range, *d_popt), '-', label=\"D-Fitted\")\n",
      "axes.plot(ligand_range, twositefractionalsaturation(ligand_range, *e_popt), '-', label=\"E-Fitted\")\n",
      "axes.plot(ligand_range, twositefractionalsaturation(ligand_range, *f_popt), '-', label=\"F-Fitted\")\n",
      "\n",
      "#Add a figure legend\n",
      "axes.legend(loc='center right')"
     ],
     "language": "python",
     "metadata": {},
     "outputs": []
    },
    {
     "cell_type": "code",
     "collapsed": false,
     "input": [
      "#This is still somewhat difficult to interpet.. Only F looks slightly sigmoidal\n",
      "#Maybe an expansion will help a little\n",
      "fig = pl.figure()\n",
      "axes = fig.add_axes([0, 0, 1, 1]) # lower, bottom, width, height (range 0 to 1)\n",
      "axes.set_xlabel(r'[L] (uM)', fontsize=18)\n",
      "axes.set_ylabel(r'Y', fontsize=18)\n",
      "axes.set_title(r'Binding Curve', fontsize=22)\n",
      "\n",
      "#Using scipy.optimize.curve_fit for the fits\n",
      "ligand_range = np.linspace(0, 200, 200)  # A range of points for the curve\n",
      "c_popt, c_pcov = curve_fit(twositefractionalsaturation, ligand_range, twositefractionalsaturation(ligand_range, c_kd_1, c_kd_2))\n",
      "d_popt, c_pcov = curve_fit(twositefractionalsaturation, ligand_range, twositefractionalsaturation(ligand_range, d_kd_1, d_kd_2))\n",
      "e_popt, c_pcov = curve_fit(twositefractionalsaturation, ligand_range, twositefractionalsaturation(ligand_range, e_kd_1, e_kd_2))\n",
      "f_popt, c_pcov = curve_fit(twositefractionalsaturation, ligand_range, twositefractionalsaturation(ligand_range, f_kd_1, f_kd_2))\n",
      "\n",
      "#Plot fit lines instead\n",
      "axes.plot(ligand_range, twositefractionalsaturation(ligand_range, *c_popt), '-', label=\"C-Fitted\")\n",
      "axes.plot(ligand_range, twositefractionalsaturation(ligand_range, *d_popt), '-', label=\"D-Fitted\")\n",
      "axes.plot(ligand_range, twositefractionalsaturation(ligand_range, *e_popt), '-', label=\"E-Fitted\")\n",
      "axes.plot(ligand_range, twositefractionalsaturation(ligand_range, *f_popt), '-', label=\"F-Fitted\")\n",
      "\n",
      "#Add a figure legend\n",
      "axes.legend(loc='center right')\n",
      "\n",
      "#Inset of lower concentration\n",
      "low_range = np.linspace(0, 20, 200)\n",
      "axes2 = fig.add_axes([0.2, 0.1, 0.5, 0.5])\n",
      "axes2.plot(low_range, twositefractionalsaturation(low_range, *c_popt), '-', label=\"C-Fitted\")\n",
      "axes2.plot(low_range, twositefractionalsaturation(low_range, *d_popt), '-', label=\"D-Fitted\")\n",
      "axes2.plot(low_range, twositefractionalsaturation(low_range, *e_popt), '-', label=\"E-Fitted\")\n",
      "axes2.plot(low_range, twositefractionalsaturation(low_range, *f_popt), '-', label=\"F-Fitted\")"
     ],
     "language": "python",
     "metadata": {},
     "outputs": []
    },
    {
     "cell_type": "markdown",
     "metadata": {},
     "source": [
      "**After all this work, we may still have some difficulty discerning the cooperativity in the binding curve. The Hill plot is better for both qualitative and quantitative measurement of cooperativity.**"
     ]
    },
    {
     "cell_type": "code",
     "collapsed": false,
     "input": [
      "#As one final demo, I'll show that last graph with data points instead of fit curves.\n",
      "fig = pl.figure()\n",
      "axes = fig.add_axes([0, 0, 1, 1]) # lower, bottom, width, height (range 0 to 1)\n",
      "axes.set_xlabel(r'[L] (uM)', fontsize=18)\n",
      "axes.set_ylabel(r'Y', fontsize=18)\n",
      "axes.set_title(r'Binding Curve', fontsize=22)\n",
      "#Plot data points\n",
      "axes.plot(ligand, c_Y, 'o', label='C')  # plot(x=[L], y=Y)\n",
      "axes.plot(ligand, d_Y, 'o', label='D')  # plot(x=[L], y=Y)\n",
      "axes.plot(ligand, e_Y, 'o', label='E')  # plot(x=[L], y=Y)\n",
      "axes.plot(ligand, f_Y, 'o', label='F')  # plot(x=[L], y=Y)\n",
      "\n",
      "#Add a figure legend\n",
      "axes.legend(loc='center right')\n",
      "\n",
      "#Inset of lower concentration\n",
      "low_range = ligand[ligand <= 20]\n",
      "c_low_Y = twositefractionalsaturation(low_range, c_kd_1, c_kd_2)\n",
      "d_low_Y = twositefractionalsaturation(low_range, d_kd_1, d_kd_2)\n",
      "e_low_Y = twositefractionalsaturation(low_range, e_kd_1, e_kd_2)\n",
      "f_low_Y = twositefractionalsaturation(low_range, f_kd_1, f_kd_2)\n",
      "\n",
      "axes2 = fig.add_axes([0.2, 0.1, 0.5, 0.5])\n",
      "axes2.plot(low_range, c_low_Y, 'o', label='C')\n",
      "axes2.plot(low_range, d_low_Y, 'o', label='D')\n",
      "axes2.plot(low_range, e_low_Y, 'o', label='E')\n",
      "axes2.plot(low_range, f_low_Y, 'o', label='F')"
     ],
     "language": "python",
     "metadata": {},
     "outputs": []
    },
    {
     "cell_type": "markdown",
     "metadata": {},
     "source": [
      "v) Sketch the Hill plots for all four cases on the same graph. How do the plots for each case differ, how are they the same?"
     ]
    },
    {
     "cell_type": "markdown",
     "metadata": {},
     "source": [
      "**This has already been done and discussed above, but it is worth reiterating the following points:**\n",
      "\n",
      "* All of the lines have the same x-intercept, indicating identical Kd-average values.\n",
      "* They differ in slope at the x-intercept, indicating different cooperativity.\n",
      "* Cooperative binding on hill plots is not linear, but close enough for some approximation."
     ]
    },
    {
     "cell_type": "heading",
     "level": 3,
     "metadata": {},
     "source": [
      "Problem 4"
     ]
    },
    {
     "cell_type": "markdown",
     "metadata": {},
     "source": [
      "Assume that hemoglobin had the same oxygen binding curve as myoglobin. How much oxygen would be delivered to the tissues if this were the case? Assume the oxygen concentration in the lungs is 90 Torr and that in the tissues is 30 Torr and use the oxygen binding curve given in lecture 12. Compare this to the amount that is actually delivered by hemoglobin and comment on the importance of cooperative oxygen binding to hemoglobin.\n",
      "\n",
      "*(I modified this question from the original to use units of Torr instead of kPa)*\n",
      "\n",
      "**Here is the binding curve plot from Lecture 12.**\n",
      "\n",
      "<img height='400' src='files/images/hemoglobin_myoglobin_binding_curves.png'>"
     ]
    },
    {
     "cell_type": "markdown",
     "metadata": {},
     "source": [
      "*We must compare the oxygen binding behavior of hemoglobin to myoglobin and consider how these differences translate to physiological effects. Hemoglobin is clearly positively cooperative while myoglobin is non-cooperative. The Kd-average of hemoglobin is higher than myoglobin which indicates that it has a lower overall affinity for oxygen.*\n",
      "\n",
      "**At 90 Torr we can estimate that hemoglobin in the lungs is about 97% saturated with oxygen and at 30 Torr the hemoglobin in the tissues is about 60% saturated. So about 37% of the oxygen carried gets unloaded during transport from the lungs to the tissue.**\n",
      "\n",
      "**If it behaved as myoglobin, at 90 Torr it would be 95% saturated with oxygen and then at 30 Torr approximately 92% saturated. Only 5% of the carried oxygen would be unloaded in the tissues. This is much more inefficient than hemoglobin's natural behavior. The cooperativity allows for a rapid shift in oxygen loading that allows hemoglobin to be a more efficient oxygen transport system.**"
     ]
    },
    {
     "cell_type": "heading",
     "level": 3,
     "metadata": {},
     "source": [
      "Problem 5"
     ]
    },
    {
     "cell_type": "markdown",
     "metadata": {},
     "source": [
      "Fetal hemoglobin is composed of different chains than adult hemoglobin. The fractional saturation of fetal hemoglobin at a number of different oxygen concentrations is given in the table on the right. The units of oxygen are \u03bcM."
     ]
    },
    {
     "cell_type": "markdown",
     "metadata": {},
     "source": [
      "     [O2] (uM) |   Y   \n",
      "    -----------+-------\n",
      "        0.2    | 0.008 \n",
      "        0.5    |       \n",
      "        1.0    | 0.510 \n",
      "        2.0    | 0.890 \n",
      "        5.0    | 0.990 "
     ]
    },
    {
     "cell_type": "markdown",
     "metadata": {},
     "source": [
      "1) The absorption of the fetal hemoglobin solution is measured at 675 nm. In the oxy form it is 0.28 and in the deoxy form it is 2.59. When the oxygen concentration is 0.5 \u03bcM the measured absorption is 2.31. What is the fractional saturation at this oxygen concentration?\n"
     ]
    },
    {
     "cell_type": "markdown",
     "metadata": {},
     "source": [
      "**The range of value between the maximum and minimum absorption defines the *dynamic range* of our experiment.**\n",
      "\n",
      "**Under the assumption that our fractional saturation is directly proportionsl to the degree of transition through this dynamic range between states, we can calculate our fractional saturation quite simply.**\n",
      "\n",
      "$$Y=\\frac{A_{Measured}-A_{MIN}}{A_{MAX}-A_{MIN}}=\\frac{2.31-0.28}{2.59-0.28}=\\frac{-2.053}{-2.310}=0.125$$"
     ]
    },
    {
     "cell_type": "markdown",
     "metadata": {},
     "source": [
      "     [O2] (uM) |   Y   \n",
      "    -----------+-------\n",
      "        0.2    | 0.008 \n",
      "        0.5    | 0.125 \n",
      "        1.0    | 0.510 \n",
      "        2.0    | 0.890 \n",
      "        5.0    | 0.990 "
     ]
    },
    {
     "cell_type": "markdown",
     "metadata": {},
     "source": [
      "ii) Using the values of Y, plot a Hill plot. Determine the 'average' Kd value from the position that your curve crosses the x-axis. Determine the Hill coefficient from your data as well."
     ]
    },
    {
     "cell_type": "code",
     "collapsed": false,
     "input": [
      "#We are quite familiar with making Hill plots by now\n",
      "#We will plot the data and determine the Kd from the fit as before\n",
      "\n",
      "o2_conc = np.array([0.2, 0.5, 1.0, 2.0, 5.0]) / 1000000  # [O2] values\n",
      "fetal_frac_sat = np.array([0.008, 0.125, 0.510, 0.890, 0.990])  # Y\n",
      "\n",
      "fetal_hill_x = calc_hill_x(o2_conc)  # log([O2]) for x axis\n",
      "fetal_hill_y = calc_hill_y(fetal_frac_sat)  # log(Y/1-Y) for y axis\n",
      "#Make Chart\n",
      "fig = pl.figure()\n",
      "axes = fig.add_axes([0, 0, 1, 1]) # lower, bottom, width, height (range 0 to 1)\n",
      "axes.set_xlabel(r'[$O_{2}$] (uM)', fontsize=18)\n",
      "axes.set_ylabel(r'log(Y/1-Y)', fontsize=18)\n",
      "axes.set_title(r'Hill Plot', fontsize=22)\n",
      "axes.grid(b=True, which='major', linestyle='--')\n",
      "\n",
      "#Plot the data\n",
      "axes.plot(fetal_hill_x, fetal_hill_y, 'o', label='Fetal Hemoglobin Data')\n",
      "\n",
      "#Fit the data\n",
      "fetal_p = np.polyfit(fetal_hill_x, fetal_hill_y, 1)  # First order polynomial fit\n",
      "\n",
      "#Plot the fit\n",
      "axes.plot(fetal_hill_x, np.polyval(fetal_p, fetal_hill_x), label='Fetal Data-Fit')\n",
      "\n",
      "#Add a figure legend\n",
      "axes.legend(loc='lower right')\n",
      "\n",
      "#Calculate the x-intercept\n",
      "fetal_x_intercept = (-1 * p[1]) / p[0]\n",
      "\n",
      "#Calculate the Kd-average\n",
      "fetal_hill_kd = 10 ** x_intercept\n",
      "\n",
      "print('The linear equation for the data is: y = {0}x + {1}'.format(*fetal_p))\n",
      "\n",
      "print('The Kd-average from the Hill plot for is {0} uM'.format(fetal_hill_kd))"
     ],
     "language": "python",
     "metadata": {},
     "outputs": []
    },
    {
     "cell_type": "markdown",
     "metadata": {},
     "source": [
      "iii) Using the same graph, sketch the Hill plot for normal adult hemoglobin (KD = 10 \u03bcM, nh =3)."
     ]
    },
    {
     "cell_type": "code",
     "collapsed": false,
     "input": [
      "#Let's make the graph now show a line for adult hemoglobin\n",
      "\n",
      "#Make Chart\n",
      "fig = pl.figure()\n",
      "axes = fig.add_axes([0, 0, 1, 1]) # lower, bottom, width, height (range 0 to 1)\n",
      "axes.set_xlabel(r'[$O_{2}$] (uM)', fontsize=18)\n",
      "axes.set_ylabel(r'log(Y/1-Y)', fontsize=18)\n",
      "axes.set_title(r'Hill Plot', fontsize=22)\n",
      "axes.grid(b=True, which='major', linestyle='--')\n",
      "axes.plot(fetal_hill_x, fetal_hill_y, 'o', label='Fetal Hemoglobin Data')\n",
      "axes.plot(fetal_hill_x, np.polyval(fetal_p, fetal_hill_x), label='Fetal Data-Fit')\n",
      "\n",
      "#Make a line for the adult hemoglobin\n",
      "m = 3  # Given nh\n",
      "x_intercept = log10(0.00001) # Given Kd\n",
      "#Find b from m and x-intercept: b = -m*x-intercept\n",
      "b = -1 * m * x_intercept\n",
      "\n",
      "#I'll plot the line with datapoints shifted by one log unit\n",
      "axes.plot(fetal_hill_x + 1, m * (fetal_hill_x +1) + b, '-', label='Adult Hemoglobin')\n",
      "\n",
      "axes.legend(loc='lower right')"
     ],
     "language": "python",
     "metadata": {},
     "outputs": []
    },
    {
     "cell_type": "markdown",
     "metadata": {},
     "source": [
      "iv) Compare your data (both KD and nh) for normal hemoglobin to that obtained for fetal hemoglobin. What are the significant differences and similarities?"
     ]
    },
    {
     "cell_type": "markdown",
     "metadata": {},
     "source": [
      "**Fetal hemoglobin and adult hemoglobin have a very similar cooperativity. They differ in affinity however, the Kd for fetal hemoglobin is 10 fold less than adult hemoglobin which shows a higher affinity for oxygen.**"
     ]
    },
    {
     "cell_type": "markdown",
     "metadata": {},
     "source": [
      "v) Why are these differences and similarities important for the biological function of fetal hemoglobin?"
     ]
    },
    {
     "cell_type": "markdown",
     "metadata": {},
     "source": [
      "**In order for the fetus to receive oxygen from the maternal hemoglobin across the placenta, its affinity must be higher so that it can effectively saturate at lower oxygen concentrations. The cooperativity of the hemoglobin is still important for the efficient delivery of oxygen (discussed above in Problem 4) so the high positive cooperativity of hemoglobin is seen in the fetal version as well.**"
     ]
    },
    {
     "cell_type": "heading",
     "level": 3,
     "metadata": {},
     "source": [
      "Problem 6"
     ]
    },
    {
     "cell_type": "markdown",
     "metadata": {},
     "source": [
      "The regulation of the oxygen affinity of hemoglobin by bisphosphoglycerate (BPG) is important in adaptation of oxygen delivery at high altitudes.\n"
     ]
    },
    {
     "cell_type": "markdown",
     "metadata": {},
     "source": [
      "i) Open the [Jmol page for this problem set](http://www.andrew.cmu.edu/user/rule/bc_oli/Pset/PS05/ps05_jmol.html). The structure of deoxy hemoglobin with BPG bound is shown on the left. The structure of oxy-hemoglobin is shown on the right. In the deoxy structure, measure the distance between the two NE2 atoms on the histidine residues that contact the BPG (shown in spacefill). What is this distance?\n"
     ]
    },
    {
     "cell_type": "markdown",
     "metadata": {},
     "source": [
      "**1.425 nm or 14.25 A**"
     ]
    },
    {
     "cell_type": "markdown",
     "metadata": {},
     "source": [
      "ii) Now measure the size of the potential BPG binding pocket on oxy-hemoglobin by measuring the distance between the two NZ atoms on the lysine residues. Why can\u2019t BPG bind to oxygenated hemoglobin?"
     ]
    },
    {
     "cell_type": "markdown",
     "metadata": {},
     "source": [
      "**1.073 or 10.73 A. The pocket in oxyHb is too small to fit BPG.**"
     ]
    },
    {
     "cell_type": "markdown",
     "metadata": {},
     "source": [
      "iii) If His145 on the \u03b2-chains of hemoglobin were replaced by aspartic acid would it be necessary to have much higher, or much lower, BPG level to achieve the same effect on oxygen delivery. Why? [His 145 is one of the His residues from the \u03b2-chain that is shown in the diagram of the BPG - hemoglobin complex in lecture 13, it is also the histidine whose atoms are highlighted on the left Jmol page when you click \u201cHis\u201d].\n"
     ]
    },
    {
     "cell_type": "markdown",
     "metadata": {},
     "source": [
      "**The BPG binds between the two subunits of Hb by interaction with the positively charged residues on the Hb. This interaction is a favorable electrostatic interaction. If one of the His residues on Hb is replaced by Asp, this would weaken the interaction. Therefore, a higher concentration of BPG would be required to reach the same amount of bound BPG.**"
     ]
    }
   ],
   "metadata": {}
  }
 ]
}