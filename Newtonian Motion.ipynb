{
 "metadata": {
  "name": ""
 },
 "nbformat": 3,
 "nbformat_minor": 0,
 "worksheets": [
  {
   "cells": [
    {
     "cell_type": "code",
     "collapsed": false,
     "input": [
      "#This is mainly just for me, not for instruction; I am using this to improve my\n",
      "#understanding of sympy as well as physics"
     ],
     "language": "python",
     "metadata": {},
     "outputs": []
    },
    {
     "cell_type": "code",
     "collapsed": false,
     "input": [
      "#Setup\n",
      "%pylab inline\n",
      "import numpy as np\n",
      "import pylab as pl\n",
      "import math\n",
      "\n",
      "from sympy import *"
     ],
     "language": "python",
     "metadata": {},
     "outputs": []
    },
    {
     "cell_type": "code",
     "collapsed": false,
     "input": [
      "#Let's start with this a basic function for acceleration\n",
      "j, ai, t = symbols('j a_i t')\n",
      "acceleration = j * t + ai\n",
      "print('Initial acceleration function:')\n",
      "print('A(t) = {0}'.format(acceleration))\n",
      "\n",
      "#If acceleration is constant, then this is our acceleration function\n",
      "acceleration = acceleration.subs(j, 0)\n",
      "print('Constant acceleration (j=0):')\n",
      "print('A(t) = {0}'.format(acceleration))"
     ],
     "language": "python",
     "metadata": {},
     "outputs": []
    },
    {
     "cell_type": "code",
     "collapsed": false,
     "input": [
      "#Let's plot a range of time points for acceleration\n",
      "start_time = 0\n",
      "end_time = 2\n",
      "time_steps = 100\n",
      "time_range = np.linspace(start_time, end_time, time_steps)\n",
      "\n",
      "#Substite in 1 for a_i\n",
      "acceleration = acceleration.subs(ai, 1)\n",
      "\n",
      "#Create the plot\n",
      "plot = pl.figure().add_subplot(111)\n",
      "\n",
      "#Sympy does not have the same magicks as scipy\n",
      "#I'll demonstrate how to convert later, for now this will generate matching data\n",
      "#points in y-dimension according to x-dimension\n",
      "plot.plot(time_range, [acceleration.evalf() for time_point in time_range])\n",
      "plot.set_yticks(np.arange(0, 2.2, 0.2))\n",
      "plot.set_ylabel(r'Acceleration')\n",
      "plot.set_xlabel(r'Time (s)')\n",
      "plot.grid()"
     ],
     "language": "python",
     "metadata": {},
     "outputs": []
    },
    {
     "cell_type": "code",
     "collapsed": false,
     "input": [
      "init_printing(use_unicode=True)"
     ],
     "language": "python",
     "metadata": {},
     "outputs": []
    },
    {
     "cell_type": "code",
     "collapsed": false,
     "input": [
      "#Omitting consideration of constants of integration (assume all 0), conduct integration\n",
      "#to get velocity and position\n",
      "\n",
      "print('Acceleration integrated to get velocity:')\n",
      "velocity=integrate(acceleration, t)\n",
      "print('Velocity integrated to get position:')\n",
      "position=integrate(velocity, t)\n",
      "\n",
      "#Let's add acceleration, velocity, and position to a plot together\n",
      "start_time = 0\n",
      "end_time = 2\n",
      "time_steps = 100\n",
      "time_range = np.linspace(start_time, end_time, time_steps)\n",
      "\n",
      "#Create the plot\n",
      "plot = pl.figure().add_subplot(111)\n",
      "\n",
      "plot.plot(time_range, [acceleration.evalf() for time_point in time_range], label='Acceleration')\n",
      "plot.plot(time_range, [velocity.subs(t, time_point).evalf() for time_point in time_range], label='Velocity')\n",
      "plot.plot(time_range, [position.subs(t, time_point).evalf() for time_point in time_range], label='Position')\n",
      "\n",
      "#Add a figure legend\n",
      "plot.legend(loc='upper left')\n",
      "\n",
      "plot.set_yticks(np.arange(0, 2.2, 0.2))\n",
      "plot.set_ylabel(r'Units')\n",
      "plot.set_xlabel(r'Time (s)')\n",
      "plot.grid()"
     ],
     "language": "python",
     "metadata": {},
     "outputs": []
    },
    {
     "cell_type": "code",
     "collapsed": false,
     "input": [
      "#Okay, we've got the basics out of the way...\n",
      "#Let's tackle a little cannoneering in constant gravity and vacuum\n",
      "#I'm not quite sure of the best way to employ vectors in sympy yet...\n",
      "ax, ay, vxi, vyi, rxi, ryi, t = symbols('ax, ay, vxi, vyi, rxi, ryi, t')\n",
      "\n",
      "x_velocity = ax * t + vxi\n",
      "y_velocity = ay * t + vyi\n",
      "\n",
      "x_position = integrate(x_velocity, t) + rxi\n",
      "y_position = integrate(y_velocity, t) + ryi\n",
      "\n",
      "#Suppose that gravity is all in the y-vector\n",
      "x_solution = x_position.subs(ax, 0)\n",
      "y_solution = y_position.subs(ay, -9.81)\n",
      "\n",
      "#Further suppose that the inital velocity has a magnitude of 300 m/s\n",
      "#And we fire at an angle of pi/2 radians\n",
      "vi_magnitude = 300\n",
      "x_solution = x_solution.subs(vxi, vi_magnitude * cos(math.pi / 2))\n",
      "y_solution = y_solution.subs(vyi, vi_magnitude * sin(math.pi / 2))\n",
      "\n",
      "#One more, let's fire from a reference coord of [0, 0]\n",
      "x_solution = x_solution.subs(rxi, 0)\n",
      "y_solution = y_solution.subs(ryi, 0)\n",
      "\n",
      "#Let's create a plot of the projectile\n",
      "\n",
      "#Let's add acceleration, velocity, and position to a plot together\n",
      "start_time = 0\n",
      "end_time = 80\n",
      "time_steps = 2000\n",
      "time_range = np.linspace(start_time, end_time, time_steps)\n",
      "\n",
      "#Create the plot\n",
      "plot = pl.figure().add_subplot(111)\n",
      "\n",
      "plot.plot([x_solution.subs(t, tp).evalf() for tp in time_range], [y_solution.subs(t, tp).evalf() for tp in time_range], label='Position')"
     ],
     "language": "python",
     "metadata": {},
     "outputs": []
    },
    {
     "cell_type": "code",
     "collapsed": false,
     "input": [],
     "language": "python",
     "metadata": {},
     "outputs": []
    }
   ],
   "metadata": {}
  }
 ]
}