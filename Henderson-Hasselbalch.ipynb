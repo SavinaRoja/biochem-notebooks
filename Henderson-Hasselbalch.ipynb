{
 "metadata": {
  "name": "Henderson-Hasselbalch"
 },
 "nbformat": 3,
 "nbformat_minor": 0,
 "worksheets": [
  {
   "cells": [
    {
     "cell_type": "heading",
     "level": 2,
     "metadata": {},
     "source": [
      "Henderson-Hasselbalch Tutorial"
     ]
    },
    {
     "cell_type": "heading",
     "level": 3,
     "metadata": {},
     "source": [
      "Acids and Bases"
     ]
    },
    {
     "cell_type": "markdown",
     "metadata": {},
     "source": [
      "The Br\u00f8nsted-Lowry definition of acids and bases is concerned with the exchange of protons: $H^{+}$\n",
      "\n",
      "  *An acid is a substance which can act as a proton donor.\n",
      "\n",
      "  *A base is a substance which can accept protons."
     ]
    },
    {
     "cell_type": "markdown",
     "metadata": {},
     "source": [
      "The following reaction shows the reversible association and dissocation of the proton from an acid.\n",
      "$$HA+H_{2}O\\rightleftharpoons A^{-}+H_{3}O^{+}$$\n",
      "\n",
      "\n",
      "The $A^{-}$ species is the **conjugate base** of the acid $HA$. The [acid dissociation constant](http://en.wikipedia.org/wiki/Acid_dissociation_constant) for this reaction, $K_{a}$ is given by\n",
      "$$K_{a}=\\frac{[A^{-}][H^{+}]}{[HA]}$$"
     ]
    },
    {
     "cell_type": "heading",
     "level": 3,
     "metadata": {},
     "source": [
      "Quick Henderson-Hasselbalch Derivation"
     ]
    },
    {
     "cell_type": "markdown",
     "metadata": {},
     "source": [
      "$$K_{a}=\\frac{[A^{-}][H^{+}]}{[HA]}$$\n",
      "$$-\\log{K_{a}}=-\\log{\\left(\\frac{[A^{-}][H^{+}]}{[HA]}\\right)}$$\n",
      "$$-\\log{K_{a}}=-\\log{[H^{+}]}-\\log{\\left(\\frac{[A^{-}]}{[HA]}\\right)}$$\n",
      "$$pK_{a}=pH-\\log{\\left(\\frac{[A^{-}]}{[HA]}\\right)}$$"
     ]
    },
    {
     "cell_type": "markdown",
     "metadata": {},
     "source": [
      "Which leads to the **Henderson-Hasselbalch equation**\n",
      "$$pH=pK_{a}+\\log{\\left(\\frac{[A^{-}]}{[HA]}\\right)}$$\n",
      "\n",
      "If $pH=pK_{a}$ then $\\log{\\left(\\frac{[A^{-}]}{[HA]}\\right)}=0$ and the ratio $\\frac{[A^{-}]}{[HA]}=1$; whenever the $pH$ matches an acid's $pK_{a}$, the acid is half deprotonated and half protonated."
     ]
    },
    {
     "cell_type": "heading",
     "level": 3,
     "metadata": {},
     "source": [
      "What can we do with the Henderson-Hasselbalch equation?"
     ]
    },
    {
     "cell_type": "markdown",
     "metadata": {},
     "source": [
      "The Henderson-Hasselbalch equation can be used to predict the fraction of an acid that is protonated at any $pH$ provided that we already know its $pK_{a}$. It can also be used to determine an acid's $pK_{a}$ based on experimental data.\n",
      "\n",
      "Let's define the ratio of deprotonated (conjugate base) to protonated acid as $R=\\frac{[A^{-}]}{[HA]}$\n",
      "\n",
      "Substituting $R$ into the Henderson-Hasselbalch equation gives: $$pH=pK_{a}+\\log{\\left(R\\right)}$$\n",
      "\n",
      "Combining this new form of the equation with an equation for the total concentration of the acid as being composed of both protonated and deprotonated states $[A_{T}]=[HA]+[A^{-}]$ allows us to write (after some algrebraic manipulation) equations for the protonated fraction $f_{HA}$ and deprotonated fraction $f_{A^{-}}$ in terms of $R$.\n",
      "$$f_{HA}=\\frac{[HA]}{[A_{T}]}=\\frac{1}{1+R}$$\n",
      "$$f_{A^{-}}=\\frac{[A^{-}]}{[A_{T}]}=\\frac{R}{1+R}$$\n"
     ]
    },
    {
     "cell_type": "heading",
     "level": 3,
     "metadata": {},
     "source": [
      "Enough equations... code time!"
     ]
    },
    {
     "cell_type": "code",
     "collapsed": false,
     "input": [
      "#Setup\n",
      "%pylab inline\n",
      "import numpy as np\n",
      "import pylab as pl"
     ],
     "language": "python",
     "metadata": {},
     "outputs": []
    },
    {
     "cell_type": "markdown",
     "metadata": {},
     "source": [
      "Suppose we want to graph the protonation state of a certain laboratory acid in a range of different $pH$s. How would we go about it?"
     ]
    },
    {
     "cell_type": "code",
     "collapsed": false,
     "input": [
      "#First we need to be able to calculate the fraction protonated based on an R value\n",
      "def protonated_f(r):\n",
      "    '''Returns the fraction protonated for the given R'''\n",
      "    prot_frac = 1 / (1 + r)\n",
      "    return(prot_frac)\n",
      "\n",
      "#Let's go ahead and make a function for the fraction deprotonated as well\n",
      "def deprotonated_f(r):\n",
      "    '''Returns the fraction deprotonated for the given R'''\n",
      "    deprot_frac = 1 - protonated_f(r)\n",
      "    return(deprot_frac)\n",
      "    "
     ],
     "language": "python",
     "metadata": {},
     "outputs": []
    },
    {
     "cell_type": "markdown",
     "metadata": {},
     "source": [
      "So we can calculate $F_{HA}$ and $F_{A^{-}}$ from R. Next we need to be able to calculate $R$ based on $pK_{A}$ and $pH$"
     ]
    },
    {
     "cell_type": "code",
     "collapsed": false,
     "input": [
      "def hh_r(pH, pKa):\n",
      "    '''Returns R from the Henderson-Hasselbalch equation'''\n",
      "    r = 10 ** (pH - pKa)  # \n",
      "    return(r)"
     ],
     "language": "python",
     "metadata": {},
     "outputs": []
    },
    {
     "cell_type": "markdown",
     "metadata": {},
     "source": [
      "Let's define some important variables"
     ]
    },
    {
     "cell_type": "code",
     "collapsed": false,
     "input": [
      "#Define the range of pH to examine and choose the number of data points\n",
      "ph_start = 0\n",
      "ph_end = 14\n",
      "data_points = 200\n",
      "phrange = np.linspace(ph_start, ph_end, data_points)  # 200 points from start to end\n",
      "#Define the pKa of our acid\n",
      "our_pka = 3"
     ],
     "language": "python",
     "metadata": {},
     "outputs": []
    },
    {
     "cell_type": "code",
     "collapsed": false,
     "input": [
      "plot = pl.figure().add_subplot(111)\n",
      "plot.plot(phrange, protonated_f(hh_r(phrange, our_pka)))  # The curve for our acid\n",
      "#plot.plot(phrange, protonated_f(hh_r(phrange, 10)))  # The curve for a pka=10 acid\n",
      "plot.grid()"
     ],
     "language": "python",
     "metadata": {},
     "outputs": []
    },
    {
     "cell_type": "code",
     "collapsed": false,
     "input": [
      "#Plot two pka curves on the same chart\n",
      "plot = pl.figure().add_subplot(111)\n",
      "plot.plot(phrange, protonated_f(hh_r(phrange, our_pka)))  # The curve for our acid\n",
      "plot.plot(phrange, protonated_f(hh_r(phrange, 10)))  # The curve for a pka=10 acid\n",
      "plot.grid()"
     ],
     "language": "python",
     "metadata": {},
     "outputs": []
    },
    {
     "cell_type": "code",
     "collapsed": false,
     "input": [
      "#Plot a line for half-protonation, where pH=pKa\n",
      "plot = pl.figure().add_subplot(111)\n",
      "plot.plot(phrange, protonated_f(hh_r(phrange, our_pka)))  # The curve for our acid\n",
      "plot.plot(phrange, protonated_f(hh_r(phrange, 10)))  # The curve for a pka=10 acid\n",
      "plot.plot(phrange, np.array([.5]* data_points))  # Half protonation, intersects curves where pH=pKa\n",
      "plot.grid()"
     ],
     "language": "python",
     "metadata": {},
     "outputs": []
    },
    {
     "cell_type": "code",
     "collapsed": false,
     "input": [
      "#Plot the lines for both protonated and deprotonated fractions\n",
      "plot = pl.figure().add_subplot(111)\n",
      "plot.plot(phrange, protonated_f(hh_r(phrange, our_pka)))  # Protonated fraction curve for our acid\n",
      "plot.plot(phrange, deprotonated_f(hh_r(phrange, our_pka)))  # Deprotonated fraction curve for our acid\n",
      "plot.plot(phrange, np.array([.5]* data_points))  # Half protonation, intersects curves where pH=pKa\n",
      "plot.grid()"
     ],
     "language": "python",
     "metadata": {},
     "outputs": []
    },
    {
     "cell_type": "code",
     "collapsed": false,
     "input": [],
     "language": "python",
     "metadata": {},
     "outputs": []
    }
   ],
   "metadata": {}
  }
 ]
}