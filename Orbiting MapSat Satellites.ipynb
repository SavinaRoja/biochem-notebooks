{
 "metadata": {
  "name": "Orbiting MapSat Satellites"
 },
 "nbformat": 3,
 "nbformat_minor": 0,
 "worksheets": [
  {
   "cells": [
    {
     "cell_type": "heading",
     "level": 2,
     "metadata": {},
     "source": [
      "What sort of orbit is good for mapping?"
     ]
    },
    {
     "cell_type": "markdown",
     "metadata": {},
     "source": [
      "The following will describe the basic and most common configuration for mapping satellites.\n",
      "\n",
      "**Polar Orbit:** If you desire full global coverage from your satellite, it is important to ensure that its orbit is polar (or quite nearly so). In other words, the orbit of the satellite should be perpendicular to the planet or moon's equator and should pass directly over each pole of the axis of rotation. By doing this, you ensure that data will be taken at every latitude.\n",
      "\n",
      "**Circular Orbit:** The next point to be considered is the shape of the orbit. A circular orbit is typically desired as it provides a constant mapping scan density over the topography of the orbitted body (assuming it is quite spherical in its own right).\n",
      "\n",
      "**Orbital Period:** As the other points above, this detail is quite intuitive but is perhaps the more tricksy to calculate. I'll provide more extensive detail below in the code and mathematics portions; for now it suffices to say that the ratio of the satellite's orbital period to the planet or moon's rotational period (also called the *sidereal rotation period*) is important. Consider the consequences for mapping Kerbin's topography if the mapping satellite's orbital period is precisely one day long (the ratio of the periods in this case is 1:1). In such a scenario, the satellite would only pass over two unique points above the equator and the global map would never be completed. Indeed if the ratio of these two periods is a rational number, then the number of unique passages over the equator will always be finite, and may lead to a survey that will either never complete, or take a very long time to do so. Choosing the orbital altitude for the orbit must then obviously weigh this factor as well as the range of the mapping hardware itself."
     ]
    },
    {
     "cell_type": "code",
     "collapsed": false,
     "input": [
      "#Let's do some setup\n",
      "\n",
      "%pylab inline\n",
      "import numpy as np\n",
      "import pylab as pl\n",
      "\n",
      "from sympy import *\n",
      "from sympy.solvers import solve"
     ],
     "language": "python",
     "metadata": {},
     "outputs": [
      {
       "output_type": "stream",
       "stream": "stdout",
       "text": [
        "\n",
        "Welcome to pylab, a matplotlib-based Python environment [backend: module://IPython.zmq.pylab.backend_inline].\n",
        "For more information, type 'help(pylab)'.\n"
       ]
      },
      {
       "output_type": "stream",
       "stream": "stderr",
       "text": [
        "/usr/local/lib/python2.7/dist-packages/mpl_toolkits/__init__.py:2: UserWarning: Module dateutil was already imported from /usr/local/lib/python2.7/dist-packages/dateutil/__init__.pyc, but /usr/lib/python2.7/dist-packages is being added to sys.path\n",
        "  __import__('pkg_resources').declare_namespace(__name__)\n"
       ]
      }
     ],
     "prompt_number": 1
    },
    {
     "cell_type": "markdown",
     "metadata": {},
     "source": [
      "One formula we ought to acquaint ourselves is that of orbital period:\n",
      "$$T = 2 \\pi \\sqrt{\\frac{a^{3}}{\\mu}}$$\n",
      "\n",
      "Where $a$ is the distance (in meters) of an orbit's semi-major axis and $\\mu$ is the standard gravitational parameter of the orbitted body."
     ]
    },
    {
     "cell_type": "code",
     "collapsed": false,
     "input": [],
     "language": "python",
     "metadata": {},
     "outputs": []
    }
   ],
   "metadata": {}
  }
 ]
}