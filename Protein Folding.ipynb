{
 "metadata": {
  "name": "Protein Folding"
 },
 "nbformat": 3,
 "nbformat_minor": 0,
 "worksheets": [
  {
   "cells": [
    {
     "cell_type": "heading",
     "level": 2,
     "metadata": {},
     "source": [
      "Protein Folding"
     ]
    },
    {
     "cell_type": "heading",
     "level": 3,
     "metadata": {},
     "source": [
      "Thermodynamics of Folding"
     ]
    },
    {
     "cell_type": "markdown",
     "metadata": {},
     "source": [
      "Protein folding is governed by the thermodynamic principles of entropy and enthalpy. Both of these concepts are linked together in the Gibbs free energy equation.\n",
      "\n",
      "$$\\Delta G^{o}=\\Delta H^{o}-T\\Delta S^{o}$$\n",
      "\n",
      "In this equation, $\\Delta H^{o}$ signifies the change in enthalpy for a transition from some initial state to another, while $\\Delta S^{o}$ represents the change in entropy for that same transition. The sign of the Gibbs energy, $\\Delta G^{o}$ is significant; when the Gibbs energy is negative, the transition is said to be *spontaneous* and the transition from the initial state to the final state is favorable. When positive, the Gibbs energy is unfavorable and the transition between states will instead prefer the initial state over the final state.\n",
      "\n",
      "For protein folding, if the following standard energy difference is negative: $\\Delta G^{o}=\\Delta G^{o}_{F}-\\Delta G^{o}_{U}$\n",
      "then the folded state is at a lower energy than the unfolded state (more stable than the unfolded state) and the equilibrium of folded and unfolded proteins will favor the folded form. The following equations provide an alternative formulation of Gibbs energy that relates to $K_{eq}$, the forward equilibrium constant of a reaction.\n",
      "\n",
      "$$\\Delta G^{o}=-RT ln(K_{eq})$$\n",
      "$$K_{eq}=e^{-\\Delta G / RT}$$"
     ]
    },
    {
     "cell_type": "code",
     "collapsed": false,
     "input": [],
     "language": "python",
     "metadata": {},
     "outputs": []
    }
   ],
   "metadata": {}
  }
 ]
}