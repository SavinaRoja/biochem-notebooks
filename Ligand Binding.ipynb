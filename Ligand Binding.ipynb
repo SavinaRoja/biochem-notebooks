{
 "metadata": {
  "name": "Ligand Binding"
 },
 "nbformat": 3,
 "nbformat_minor": 0,
 "worksheets": [
  {
   "cells": [
    {
     "cell_type": "heading",
     "level": 1,
     "metadata": {},
     "source": [
      "Ligand Binding"
     ]
    },
    {
     "cell_type": "heading",
     "level": 2,
     "metadata": {},
     "source": [
      "Noncooperative Binding"
     ]
    },
    {
     "cell_type": "markdown",
     "metadata": {},
     "source": [
      "In noncooperative binding, the binding of one ligand has no effect on the binding of other ligands to the macromolecule. Cooperative binding will be covered further on, for now we begin with an analysis of noncooperative systems.\n",
      "\n",
      "$$[M]+[L]\\rightleftharpoons [ML]$$"
     ]
    },
    {
     "cell_type": "heading",
     "level": 3,
     "metadata": {},
     "source": [
      "Plotting the Binding Curve"
     ]
    },
    {
     "cell_type": "markdown",
     "metadata": {},
     "source": [
      "We need to be able to calculate $Y$, the fractional saturation, as a function of $[L]$ and $K_{D}$. $$Y=\\frac{[L]}{K_{D}+[L]}$$"
     ]
    },
    {
     "cell_type": "code",
     "collapsed": false,
     "input": [
      "#Setup\n",
      "%pylab inline\n",
      "import numpy as np\n",
      "import pylab as pl"
     ],
     "language": "python",
     "metadata": {},
     "outputs": []
    },
    {
     "cell_type": "code",
     "collapsed": false,
     "input": [
      "def calc_y(ligand_conc=0, kd=0):\n",
      "    '''Calculates Y given ligand concentration and the Kd of interaction.'''\n",
      "    y=ligand_conc/(kd + ligand_conc)\n",
      "    return(y)"
     ],
     "language": "python",
     "metadata": {},
     "outputs": []
    },
    {
     "cell_type": "code",
     "collapsed": false,
     "input": [
      "#Let's make a chart of a binding curve for Kd = 10uM\n",
      "fookd = 10  # Remember that units are uM\n",
      "ligand_conc_range = np.linspace(0, 100, 200)\n",
      "pl.figure()"
     ],
     "language": "python",
     "metadata": {},
     "outputs": []
    },
    {
     "cell_type": "code",
     "collapsed": false,
     "input": [
      "fig = pl.figure()\n",
      "axes = fig.add_axes([0.1, 0.1, 0.8, 0.8]) # lower, bottom, width, height (range 0 to 1)\n",
      "axes.plot(ligand_conc_range, calc_y(ligand_conc_range, fookd))\n",
      "axes.set_xticks(np.arange(0, 100, 10))\n",
      "axes.set_xlabel(r'[L] (uM)')\n",
      "axes.set_ylabel(r'Y')\n",
      "axes.set_title(r'Binding Curve')"
     ],
     "language": "python",
     "metadata": {},
     "outputs": []
    },
    {
     "cell_type": "code",
     "collapsed": false,
     "input": [
      "#Let's add a second plot alongside the first with a different Kd for comparison\n",
      "barkd = 60  # 60uM Kd\n",
      "\n",
      "fig = pl.figure()\n",
      "axes = fig.add_axes([0.1, 0.1, 0.8, 0.8]) # lower, bottom, width, height (range 0 to 1)\n",
      "p = axes.plot(ligand_conc_range, calc_y(ligand_conc_range, fookd))\n",
      "axes.set_xticks(np.arange(0, 100, 10))\n",
      "axes.set_xlabel(r'[L] (uM)')\n",
      "axes.set_ylabel(r'Y')\n",
      "axes.set_title(r'Binding Curve')\n",
      "\n",
      "axes.plot(ligand_conc_range, calc_y(ligand_conc_range, barkd))"
     ],
     "language": "python",
     "metadata": {},
     "outputs": []
    },
    {
     "cell_type": "heading",
     "level": 3,
     "metadata": {},
     "source": [
      "Plotting the Scatchard Plot"
     ]
    },
    {
     "cell_type": "markdown",
     "metadata": {},
     "source": [
      "Plotting the Scatchard Plot involves the use of $Y/[L]$ on the y-axis and $[Y]$ on the x-axis. It is thus the ratio of bound ligand and free ligand concentrations plotted against the bound ligand concentration."
     ]
    },
    {
     "cell_type": "code",
     "collapsed": false,
     "input": [
      "#Y will depend on both the Kd and [L] as before\n",
      "#Need to calculate Y/[L] as well\n",
      "\n",
      "def calc_y_over_l(y, ligand_conc):\n",
      "    '''Calculates the fraction bound to unbound ratio.'''\n",
      "    return(y / ligand_conc)"
     ],
     "language": "python",
     "metadata": {},
     "outputs": []
    },
    {
     "cell_type": "code",
     "collapsed": false,
     "input": [
      "fookd = 40\n",
      "ligand_conc_range = np.linspace(0,100,200)\n",
      "y = calc_y(ligand_conc_range, fookd)\n",
      "fig = pl.figure()\n",
      "axes = fig.add_axes([0.1, 0.1, 0.8, 0.8]) # lower, bottom, width, height (range 0 to 1)\n",
      "axes.plot(y, calc_y_over_l(y, ligand_conc_range))\n",
      "axes.set_xticks(np.arange(0, 100, 10))\n",
      "axes.set_xlabel(r'Y')\n",
      "axes.set_ylabel(r'Y/[L]')\n",
      "axes.set_title(r'Scatchard Plot')"
     ],
     "language": "python",
     "metadata": {},
     "outputs": []
    },
    {
     "cell_type": "code",
     "collapsed": false,
     "input": [],
     "language": "python",
     "metadata": {},
     "outputs": []
    }
   ],
   "metadata": {}
  }
 ]
}