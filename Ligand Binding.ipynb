{
 "metadata": {
  "name": ""
 },
 "nbformat": 3,
 "nbformat_minor": 0,
 "worksheets": [
  {
   "cells": [
    {
     "cell_type": "heading",
     "level": 1,
     "metadata": {},
     "source": [
      "Ligand Binding"
     ]
    },
    {
     "cell_type": "markdown",
     "metadata": {},
     "source": [
      "Ligand Binding is a critical concept in biochemistry and is often vitally important to understanding biological systems and the invention of new medical therapies. In this segment we will begin by discussing noncooperative binding and a case study of a Fab (antibody Fragment) binding to PCP. Cooperative binding will be studied thereafter along with the ever important example of hemoglobin binding to oxygen and the physiological relevance of positive cooperativity in this system. The thermodynamics of binding will be discussed, which should be very familiar material if one has worked the module on the thermodynamics of protein folding."
     ]
    },
    {
     "cell_type": "heading",
     "level": 2,
     "metadata": {},
     "source": [
      "Noncooperative Binding"
     ]
    },
    {
     "cell_type": "markdown",
     "metadata": {},
     "source": [
      "In noncooperative binding, the binding of one ligand has no effect on the binding of other ligands to the macromolecule. In some cases, a macromolecule has only one binding site which would preclude cooperativity of ligand binding without some other intermolecular interaction to account for it. In other cases, a macromolecule may have multiple binding sites but the affinity of the binding sites for their ligands are mutually independent.  For noncooperative binding, the fundamental reaction equation is\n",
      "\n",
      "$$[M]+[L]\\underset{k_{off}}{\\overset{k_{on}}{\\rightleftharpoons}} [ML]$$\n",
      "\n",
      "This is a reversible reaction and thus it will have a Equilibrium Constant, $K_{eq}$, which can be expressed as the ratio of products over reactants, or as the ratio of forward and reverse rate constants. The individual rate constants specify the relationship between reactant or product concentrations and their overall rate of change through time. At equilibrium there is no net change of the reaction towards products or reactants; both reactants and products are being formed exactly as fast as they are disappearing. Consider the following expressions:\n",
      "\n",
      "$$\\text{At equilibrium: net rate is zero}$$\n",
      "\n",
      "$$\\therefore\\text{rate}_{\\text{forward}}=\\text{rate}_{\\text{reverse}}$$\n",
      "\n",
      "$$k_{on}[M][L]=k_{off}[ML]$$\n",
      "\n",
      "$$\\frac{k_{on}}{k_{off}}=\\frac{[ML]}{[M][L]}=K_{eq}=K_{A}$$\n",
      "\n",
      "The use of $K_{A}$ is a common convention in biochemistry, the \"A\" signifying \"affinity\". The greater the value of $K_{A}$, the greater the affinity the macromolecule and ligand have for each other, so the equilibrium favors the products.  The Dissociation Equilibrium Constant, $K_{D}$, is by far the more ubiquitous representation in biochemistry of the degree of affinity between binding objects.\n",
      "\n",
      "$$K_{D} = \\frac{1}{K_{A}}=\\frac{[M][L]}{[ML]}=\\frac{k_{off}}{k_{on}}$$\n",
      "\n",
      "As the inverse of $K_{A}$, smaller values of $K_{D}$ signify greater affinities."
     ]
    },
    {
     "cell_type": "heading",
     "level": 3,
     "metadata": {},
     "source": [
      "Fractional Saturation and the Dissociation Equilibrium Constant"
     ]
    },
    {
     "cell_type": "markdown",
     "metadata": {},
     "source": [
      "We will use the capital letter $Y$ to represent the idea of fractional saturation (other common symbols are $B$ or $\\Theta$). Fractional saturation is the ratio of macromolecule bound to the total amount of macromolecule present in the reaction. The term \"saturation\" is an appropriate one; when all of the available macromolecule is bound to ligand, when $Y=1$, then no ligand may be \"absorbed\" by the macromolecule and it is thus \"saturated\".\n",
      "\n",
      "$$Y=\\frac{[ML]}{[M_{Total}]}=\\frac{[ML]}{[M]+[ML]}$$\n",
      "\n",
      "$$Y=\\frac{K_{A}[M][L]}{[M]+K_{A}[M][L]}=\\frac{K_{A}[L]}{1+K_{A}[L]}$$\n",
      "\n",
      "$$Y=\\frac{\\frac{1}{K_{D}}[L]}{1+\\frac{1}{K_{D}}[L]}$$\n",
      "\n",
      "$$Y=\\frac{[L]}{K_{D}+[L]}$$\n",
      "\n",
      "When one examines the final form of the equation for $Y$, it should be immediately apparent that $Y=0.5$ when $[L]=K_{D}$.\n",
      "\n",
      "$$Y=\\frac{[L]}{K_{D}+[L]}=Y=\\frac{K_{D}}{K_{D}+K_{D}}=\\frac{K_{D}}{2K_{D}}=\\frac{1}{2}$$\n",
      "\n",
      "Thus we observe that $K_{D}$ represents the concentration of free ligand at which one will find that half of all the macromolecule is bound to ligand."
     ]
    },
    {
     "cell_type": "heading",
     "level": 3,
     "metadata": {},
     "source": [
      "Plotting a Binding Curve"
     ]
    },
    {
     "cell_type": "markdown",
     "metadata": {},
     "source": [
      "We need to be able to calculate $Y$, the fractional saturation, as a function of $[L]$ and $K_{D}$. $$Y=\\frac{[L]}{K_{D}+[L]}$$\n",
      "Then we should be able to plot $Y$ against $L$ to get the Binding Curve."
     ]
    },
    {
     "cell_type": "code",
     "collapsed": false,
     "input": [
      "#Setup first, as always\n",
      "%pylab inline\n",
      "import numpy as np\n",
      "import pylab as pl"
     ],
     "language": "python",
     "metadata": {},
     "outputs": []
    },
    {
     "cell_type": "code",
     "collapsed": false,
     "input": [
      "#Create a function to calculate Y from [L] and Kd\n",
      "def calc_y(ligand_conc=0, kd=0):\n",
      "    '''Calculates Y given ligand concentration and the Kd of interaction.'''\n",
      "    y=ligand_conc/(kd + ligand_conc)\n",
      "    return y\n",
      "\n",
      "print('Done!')"
     ],
     "language": "python",
     "metadata": {},
     "outputs": []
    },
    {
     "cell_type": "code",
     "collapsed": false,
     "input": [
      "#Let's make a chart of a binding curve for Kd = 10uM\n",
      "my_kd = 10  # Remember that units are uM\n",
      "\n",
      "#Let's chart it for the range of 0-100uM\n",
      "ligand_conc_range = np.linspace(0, 100, 200)\n",
      "\n",
      "#Chart Stuff\n",
      "fig = pl.figure()\n",
      "axes = fig.add_axes([0, 0, 1, 1]) # lower, bottom, width, height (range 0 to 1)\n",
      "axes.plot(ligand_conc_range, calc_y(ligand_conc_range, my_kd))  # plot(x=[L], y=Y)\n",
      "axes.plot(my_kd, 0.5, marker='o')  # Plot a point to illustrate the Kd\n",
      "axes.set_xticks(np.arange(0, 100, 10))\n",
      "axes.set_yticks(np.arange(0, 1, .1))\n",
      "axes.set_xlabel(r'[L] (uM)', fontsize=18)\n",
      "axes.set_ylabel(r'Y', fontsize=18)\n",
      "axes.set_title(r'Binding Curve', fontsize=22)"
     ],
     "language": "python",
     "metadata": {},
     "outputs": []
    },
    {
     "cell_type": "code",
     "collapsed": false,
     "input": [
      "#Let's create a new chart to compare the binding curves of two different Kds\n",
      "first_kd = 10  # 10uM Kd\n",
      "second_kd = 60  # 60uM Kd\n",
      "\n",
      "#Let's chart it for the range of 0-100uM\n",
      "ligand_conc_range = np.linspace(0, 100, 200)\n",
      "\n",
      "#Chart Stuff\n",
      "fig = pl.figure()\n",
      "axes = fig.add_axes([0, 0, 1, 1]) # lower, bottom, width, height (range 0 to 1)\n",
      "axes.plot(ligand_conc_range, calc_y(ligand_conc_range, first_kd))  # plot(x=[L], y=Y)\n",
      "axes.plot(ligand_conc_range, calc_y(ligand_conc_range, second_kd))  # plot(x=[L], y=Y)\n",
      "axes.plot(first_kd, 0.5, marker='o')  # Plot a point to illustrate the Kd\n",
      "axes.plot(second_kd, 0.5, marker='d')  # Plot a point to illustrate the other Kd\n",
      "axes.set_xticks(np.arange(0, 100, 10))\n",
      "axes.set_yticks(np.arange(0, 1, .1))\n",
      "axes.set_xlabel(r'[L] (uM)', fontsize=18)\n",
      "axes.set_ylabel(r'Y', fontsize=18)\n",
      "axes.set_title(r'Binding Curve', fontsize=22)"
     ],
     "language": "python",
     "metadata": {},
     "outputs": []
    },
    {
     "cell_type": "code",
     "collapsed": false,
     "input": [
      "#Let's compare the two Kds again, but at both large and small scales of [L]\n",
      "first_kd = 10  # 10uM Kd\n",
      "second_kd = 60  # 60uM Kd\n",
      "\n",
      "#Two ligand concentration ranges\n",
      "large_conc_range = np.linspace(0, 5000, 200)\n",
      "small_conc_range = np.linspace(0, 100, 200)\n",
      "\n",
      "fig = pl.figure()\n",
      "axes = fig.add_axes([0, 0, 1, 1]) # lower, bottom, width, height (range 0 to 1)\n",
      "axes.plot(large_conc_range, calc_y(large_conc_range, first_kd))  # plot(x=[L], y=Y)\n",
      "axes.plot(large_conc_range, calc_y(large_conc_range, second_kd))  # plot(x=[L], y=Y)\n",
      "axes.plot(first_kd, 0.5, marker='o')  # Plot a point to illustrate the Kd\n",
      "axes.plot(second_kd, 0.5, marker='d')  # Plot a point to illustrate the other Kd\n",
      "axes.set_yticks(np.arange(0, 1, .1))\n",
      "axes.set_xlabel(r'[L] (uM)', fontsize=18)\n",
      "axes.set_ylabel(r'Y', fontsize=18)\n",
      "axes.set_title(r'Binding Curve', fontsize=22)\n",
      "\n",
      "#Inset of lower concentration\n",
      "low_ligand = np.linspace(0,100, 200)\n",
      "axes2 = fig.add_axes([0.2, 0.1, 0.6, 0.6])\n",
      "axes2.plot(small_conc_range, calc_y(small_conc_range, first_kd))\n",
      "axes2.plot(small_conc_range, calc_y(small_conc_range, second_kd))\n",
      "axes2.plot(first_kd, 0.5, marker='o')  # Plot a point to illustrate the Kd\n",
      "axes2.plot(second_kd, 0.5, marker='d')  # Plot a point to illustrate the other Kd"
     ],
     "language": "python",
     "metadata": {},
     "outputs": []
    },
    {
     "cell_type": "heading",
     "level": 3,
     "metadata": {},
     "source": [
      "Finding the $K_{D}$ from Binding Curve Data"
     ]
    },
    {
     "cell_type": "markdown",
     "metadata": {},
     "source": [
      "One kind of experiment that a researcher can use to determine the $K_{D}$ for a protein and its ligand is **Equilibrium Dialysis**. This experiment is made possible through the use of a dialysis bag, a plastic envelope with microscopic pores. These pores are permeable to small ligand molecules but not larger macromolecules such as proteins. The diagram below illustrates the division this creates.\n",
      "\n",
      "<img height='100' src='files/images/eq_dial_equil_short.png'>\n",
      "\n",
      "The experimenter is able to vary the total concentration of the ligand, $[L_{Total}]$ added to the solution as well as measure the free ligand concentration $[L]$ in the chamber accessible only to ligand.\n",
      "\n",
      "http://bit.ly/YlPoac"
     ]
    },
    {
     "cell_type": "heading",
     "level": 3,
     "metadata": {},
     "source": [
      "Fitting experimental data to the binding curve"
     ]
    },
    {
     "cell_type": "markdown",
     "metadata": {},
     "source": [
      "Let's take a look at how a real world experiment can be analyzed. An experiment was conducted that introduced a fluorescent molecule to a protein. When bound to the protein, the molecule becomes much\n",
      "brighter, so a spectrometer is able to measure the fluorescence to observe how much of the protein\n",
      "has bound to the dye. So to collect data to match the theory above, the dye concentration will vary (be titrated) while the protein concentration is constant (100nM).\n",
      "\n",
      "Here's the raw data in Relative Fluorescence Units (rfu):"
     ]
    },
    {
     "cell_type": "raw",
     "metadata": {},
     "source": [
      "A: 1,  2,   8,  16,  17,  22,   91,  133,  175,  1237,  1554,  1961\n",
      "B: 3, 16, 217, 432, 549, 698, 2870, 4633, 5681, 26497, 32628, 29880\n",
      "C: 3, 15, 168, 432, 549, 721, 2950, 4615, 6506, 26445, 31481, 30906\n",
      "D; 3, 16, 208, 442, 524, 712, 2925, 4397, 5990, 27817, 30377, 29696"
     ]
    },
    {
     "cell_type": "markdown",
     "metadata": {},
     "source": [
      "Row A is a negative control, the dye was observed in the spectrometer without any protein at all.\n",
      "\n",
      "Rows B,C, and D are triplicates of the same experiment.\n",
      "\n",
      "Each column corresponds to a different dye concentration, these are given below in nanomolar (nM):"
     ]
    },
    {
     "cell_type": "raw",
     "metadata": {},
     "source": [
      "1.04, 9.98, 39.52, 80.08, 99.84, 199.60, 395.20, 603.2, 800.80, 6032.00, 8008.00, 10400.00"
     ]
    },
    {
     "cell_type": "code",
     "collapsed": false,
     "input": [
      "from scipy.optimize import curve_fit"
     ],
     "language": "python",
     "metadata": {},
     "outputs": []
    },
    {
     "cell_type": "code",
     "collapsed": false,
     "input": [
      "#Let's start the preliminary processing, first put in the data\n",
      "data = np.array([[1, 2, 8, 16, 17, 22, 91, 133, 175, 1237, 1554, 1961],\n",
      "                 [3, 16, 217, 432, 549, 698, 2870, 4633, 5681, 26497, 32628, 29880],\n",
      "                 [3, 15, 168, 432, 549, 721, 2950, 4615, 6506, 26445, 31481, 30906],\n",
      "                 [3, 16, 208, 442, 524, 712, 2925, 4397, 5990, 27817, 30377, 29696],\n",
      "                 [1.04, 9.98, 39.52, 80.08, 99.84, 199.60, 395.20, 603.2, 800.80, 6032.00, 8008.00, 10400.00]])\n",
      "\n",
      "a, b, c, d, ligand = data\n",
      "#Key Question: what do these variables represent?\n",
      "\n",
      "prot_conc = 100  # the constant protein concentration"
     ],
     "language": "python",
     "metadata": {},
     "outputs": []
    },
    {
     "cell_type": "code",
     "collapsed": false,
     "input": [
      "#Calculate the average and standard deviation in the triplicate\n",
      "def calc_ave_d(i):\n",
      "    return sum(data[1: 4, i]) / 3.0\n",
      "\n",
      "def calc_std_dev(i):\n",
      "    return data[1: 4, i].std()\n",
      "\n",
      "average = np.array(map(calc_ave, range(len(b))))\n",
      "std_dev = np.array(map(calc_std_dev, range(len(b))))\n",
      "\n",
      "#Remove the negative control from the average\n",
      "average = average - a"
     ],
     "language": "python",
     "metadata": {},
     "outputs": []
    },
    {
     "cell_type": "code",
     "collapsed": false,
     "input": [
      "#Let's make a plot of the data before we start fitting\n",
      "fig = pl.figure()\n",
      "axes = fig.add_axes([0, 0, 1, 1]) # lower, bottom, width, height (range 0 to 1)\n",
      "axes.plot(ligand, average, 'o')  # plot(x=[L], y=Y)\n",
      "axes.set_xlabel(r'[L] (nM)', fontsize=18)\n",
      "axes.set_ylabel(r'RFU', fontsize=18)\n",
      "axes.set_title(r'Binding Curve Data', fontsize=22)"
     ],
     "language": "python",
     "metadata": {},
     "outputs": []
    },
    {
     "cell_type": "code",
     "collapsed": false,
     "input": [
      "def scaled_y(lig, scale, kd):\n",
      "    return scale * (lig / (kd + lig))\n",
      "\n",
      "popt, pcov = curve_fit(scaled_y, ligand, average, p0=(30000, 5000))\n",
      "\n",
      "print(popt)\n",
      "\n",
      "#Let's make a plot of the data before we start fitting\n",
      "fig = pl.figure()\n",
      "axes = fig.add_axes([0, 0, 1, 1]) # lower, bottom, width, height (range 0 to 1)\n",
      "axes.plot(ligand, scaled_y(ligand, *popt))\n",
      "axes.plot(ligand, average, 'o')  # plot(x=[L], y=Y)\n",
      "axes.set_xlabel(r'[L] (nM)', fontsize=18)\n",
      "axes.set_ylabel(r'RFU', fontsize=18)\n",
      "axes.set_title(r'Binding Curve Data', fontsize=22)"
     ],
     "language": "python",
     "metadata": {},
     "outputs": []
    },
    {
     "cell_type": "code",
     "collapsed": false,
     "input": [
      "def scaled_y(lig, kd):\n",
      "    return 35000.0 * (lig / (kd + lig))\n",
      "\n",
      "\n",
      "\n",
      "popt, pcov = curve_fit(scaled_y, ligand, average, p0=(5000))\n",
      "\n",
      "print(popt)\n",
      "\n",
      "#Let's make a plot of the data before we start fitting\n",
      "fig = pl.figure()\n",
      "axes = fig.add_axes([0, 0, 1, 1]) # lower, bottom, width, height (range 0 to 1)\n",
      "axes.plot(ligand, scaled_y(ligand, *popt))\n",
      "axes.plot(ligand, average, 'o')  # plot(x=[L], y=Y)\n",
      "axes.set_xlabel(r'[L] (nM)', fontsize=18)\n",
      "axes.set_ylabel(r'RFU', fontsize=18)\n",
      "axes.set_title(r'Binding Curve Data', fontsize=22)"
     ],
     "language": "python",
     "metadata": {},
     "outputs": []
    },
    {
     "cell_type": "code",
     "collapsed": false,
     "input": [],
     "language": "python",
     "metadata": {},
     "outputs": []
    }
   ],
   "metadata": {}
  }
 ]
}