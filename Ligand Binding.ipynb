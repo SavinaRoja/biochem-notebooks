{
 "metadata": {
  "name": "Ligand Binding"
 },
 "nbformat": 3,
 "nbformat_minor": 0,
 "worksheets": [
  {
   "cells": [
    {
     "cell_type": "code",
     "collapsed": false,
     "input": [
      "#Setup\n",
      "%pylab inline\n",
      "import numpy as np\n",
      "import pylab as pl"
     ],
     "language": "python",
     "metadata": {},
     "outputs": []
    },
    {
     "cell_type": "markdown",
     "metadata": {},
     "source": [
      "We need to be able to calculate $Y$, the fractional saturation, as a function of $[L]$ and $K_{D}$. $$Y=\\frac{[L]}{K_{D}+[L]}$$"
     ]
    },
    {
     "cell_type": "code",
     "collapsed": false,
     "input": [
      "def calc_y(ligand_conc=0, kd=0):\n",
      "    y=ligand_conc/(kd + ligand_conc)\n",
      "    return(y)"
     ],
     "language": "python",
     "metadata": {},
     "outputs": []
    },
    {
     "cell_type": "code",
     "collapsed": false,
     "input": [
      "#Let's make a chart of a binding curve for Kd = 10uM\n",
      "fookd = 10  # Remember that units are uM\n",
      "ligand_conc_range = np.linspace(0, 100, 200)\n",
      "pl.figure()"
     ],
     "language": "python",
     "metadata": {},
     "outputs": []
    },
    {
     "cell_type": "code",
     "collapsed": false,
     "input": [
      "fig = pl.figure()\n",
      "axes = fig.add_axes([0.1, 0.1, 0.8, 0.8]) # lower, bottom, width, height (range 0 to 1)\n",
      "axes.plot(ligand_conc_range, calc_y(ligand_conc_range, fookd))\n",
      "axes.set_xticks(np.arange(0, 100, 10))\n",
      "axes.set_xlabel(r'[L] (uM)')\n",
      "axes.set_ylabel(r'Y')\n",
      "axes.set_title(r'Binding Curve')"
     ],
     "language": "python",
     "metadata": {},
     "outputs": []
    },
    {
     "cell_type": "code",
     "collapsed": false,
     "input": [],
     "language": "python",
     "metadata": {},
     "outputs": []
    }
   ],
   "metadata": {}
  }
 ]
}