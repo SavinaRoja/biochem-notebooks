{
 "metadata": {
  "name": "Two Site Binding"
 },
 "nbformat": 3,
 "nbformat_minor": 0,
 "worksheets": [
  {
   "cells": [
    {
     "cell_type": "heading",
     "level": 1,
     "metadata": {},
     "source": [
      "Cooperativity in a Two Site Model"
     ]
    },
    {
     "cell_type": "markdown",
     "metadata": {},
     "source": [
      "This is a workbook to demonstrate the maths involved in two-site cooperative binding systems along with a set of Python utilities for analytical prediction and fitting of data."
     ]
    },
    {
     "cell_type": "heading",
     "level": 2,
     "metadata": {},
     "source": [
      "Foundational Model and Derivation of Useful Terms"
     ]
    },
    {
     "cell_type": "markdown",
     "metadata": {},
     "source": [
      "$$[M]+[L]\\underset{k_{off1}}{\\overset{k_{on1}}{\\rightleftharpoons}}[ML]+[L]\\underset{k_{off2}}{\\overset{k_{on2}}{\\rightleftharpoons}}[ML_{2}]$$"
     ]
    },
    {
     "cell_type": "markdown",
     "metadata": {},
     "source": [
      "$\\nu$ is a term to express the ratio of ligands bound to the number of macromolecule and is given below:\n",
      "\n",
      "$$\\nu=\\frac{[ML]+2[ML_{2}]}{[M_{Total}]}=\\frac{[ML]+2[ML_{2}]}{[M]+[ML]+[ML_{2}]}$$\n",
      "\n",
      "$Y$ is a term to express the fractional saturation of the macromolecule and is equivalent to $\\nu$ divided by the number of binding sites, $n=2$ in this case:\n",
      "\n",
      "$$Y=\\frac{\\nu}{n}=\\frac{\\nu}{2}=\\frac{\\frac{1}{2}[ML]+[ML_{2}]}{[M]+[ML]+[ML_{2}]}$$\n",
      "\n",
      "The two binding events each have their own macroscopic equilibrium dissociation constants, $K_{D1}$ and $K_{D2}$, which may be expressed as the ratios of their reactants over their products:\n",
      "\n",
      "$$K_{D1}=\\frac{[M][L]}{[ML]},K_{D2}=\\frac{[ML_{2}]}{[ML][L]}$$\n",
      "\n",
      "The microscopic equilibrium dissociation constants, $K_{D1}^{\\mu}$ and $K_{D2}^{\\mu}$, are in essence the measure of \"raw affinity\" and they are the ratio of $k_{off}$ over $k_{on}$ for the binding event. The macroscopic and microscopic constants are interrelated; macroscopic constants may be thought of merely the statistical adjustment of the microscopic constants for the difference in potential sites. To wit, the first binding event has two potential bnding sites but only one potential dissociation site which gives rise to the following:\n",
      "\n",
      "$$K_{D1}^{\\mu}=\\frac{k_{off1}}{k_{on1}}, K_{D2}^{\\mu}=\\frac{k_{off2}}{k_{on2}}$$\n",
      "\n",
      "$$K_{D1}=\\frac{k_{off1}}{2k_{on1}}=\\frac{K_{D1}^{\\mu}}{2},K_{D2}=\\frac{2k_{off2}}{k_{on2}}=\\frac{2K_{D2}^{\\mu}}{1}$$\n",
      "\n",
      "The algebraic rearrangements below are invaluable for deriving $Y$ and other fractions in terms of free ligand concentration, $[L]$, and the microscropic equilibrium dissociation constants, $K_{D1}^{\\mu}$ and $K_{D2}^{\\mu}$:\n",
      "\n",
      "$$[ML]=\\frac{[M][L]}{K_{D1}}=\\frac{2[M][L]}{K_{D1}^{\\mu}},[ML_{2}]=\\frac{[ML][L]}{K_{D2}}=\\frac{[ML][L]}{2K_{D2}^{\\mu}}$$\n",
      "\n",
      "$$Y=\\frac{\\frac{1}{2}[ML]+[ML_{2}]}{[M]+[ML]+[ML_{2}]}=\\frac{\\frac{1}{K_{D1}^{\\mu}}[M][L]+\\frac{1}{2K_{D2}^{\\mu}}[ML][L]}{[M]+\\frac{2}{K_{D1}^{\\mu}}[M][L]+\\frac{1}{2K_{D2}^{\\mu}}[ML][L]}=\\frac{\\frac{1}{K_{D1}^{\\mu}}[M][L]+\\frac{1}{K_{D2}^{\\mu}}\\frac{1}{K_{D1}^{\\mu}}[M][L]^{2}}{[M]+\\frac{2}{K_{D1}^{\\mu}}[M][L]+\\frac{1}{K_{D2}^{\\mu}}\\frac{1}{K_{D1}^{\\mu}}[M][L]^{2}}$$\n",
      "\n",
      "$$Y=\\frac{\\frac{1}{K_{D1}^{\\mu}}[L]+\\frac{1}{K_{D2}^{\\mu}}\\frac{1}{K_{D1}^{\\mu}}[L]^{2}}{1+\\frac{2}{K_{D1}^{\\mu}}[L]+\\frac{1}{K_{D2}^{\\mu}}\\frac{1}{K_{D1}^{\\mu}}[L]^{2}}$$\n",
      "\n",
      "Similarly, the fraction of macromolecule in each state can be calculated. The initial formulations and the resultant evaluation in terms of $[L]$, $K_{D1}^{\\mu}$, and $K_{D2}^{\\mu}$ are provided, the reader is encouraged to do these exercises independently. Note that $J_{M}+J_{ML}+J_{ML_{2}}=1$.\n",
      "\n",
      "$$J_{M}=\\frac{[M]}{[M]+[ML]+[ML_{2}]},J_{ML}=\\frac{[ML]}{[M]+[ML]+[ML_{2}]},J_{ML_{2}}=\\frac{[ML_{2}]}{[M]+[ML]+[ML_{2}]}$$\n",
      "\n",
      "$$J_{M}=\\frac{1}{1+\\frac{2}{K_{D1}^{\\mu}}[L]+\\frac{1}{K_{D1}^{\\mu}}\\frac{1}{K_{D2}^{\\mu}}[L]^{2}}$$\n",
      "\n",
      "$$J_{ML}=\\frac{\\frac{2}{K_{D1}^{\\mu}}[L]}{1+\\frac{2}{K_{D1}^{\\mu}}[L]+\\frac{1}{K_{D1}^{\\mu}}\\frac{1}{K_{D2}^{\\mu}}[L]^{2}}$$\n",
      "\n",
      "$$J_{ML_{2}}=\\frac{\\frac{1}{K_{D1}^{\\mu}}\\frac{1}{K_{D2}^{\\mu}}[L]^{2}}{1+\\frac{2}{K_{D1}^{\\mu}}[L]+\\frac{1}{K_{D1}^{\\mu}}\\frac{1}{K_{D2}^{\\mu}}[L]^{2}}$$\n"
     ]
    },
    {
     "cell_type": "markdown",
     "metadata": {},
     "source": []
    }
   ],
   "metadata": {}
  }
 ]
}