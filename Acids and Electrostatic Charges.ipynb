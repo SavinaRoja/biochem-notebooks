{
 "cells": [
  {
   "cell_type": "markdown",
   "metadata": {},
   "source": [
    "## Acids and Electrostatic Charges"
   ]
  },
  {
   "cell_type": "markdown",
   "metadata": {},
   "source": [
    "The general equation for an acid can be written as\n",
    "$$HA+H_{2}O\\rightleftharpoons A^{-}+H_{3}O^{+}$$\n",
    "\n",
    "and you can see that the products on the right side have formal negative and positive charges. Not all acid reaction equations will follow this exact pattern of charges, consider the following two equations for instance:\n",
    "$$H_{4}N^{+}+H_{2}O\\rightleftharpoons H_{3}N+H_{3}O^{+}$$\n",
    "$$HSO_{4}^{-}+H_{2}O\\rightleftharpoons SO_{4}^{2-}+H_{3}O^{+}$$\n",
    "\n",
    "but they do follow the general pattern of becoming less positive (more negative) as they deprotonate. Acid groups will be more positive at low $pH$s and more negative at high $pH$s. Electrostatic charges on molecules can have a powerful impact on their biochemical properties."
   ]
  },
  {
   "cell_type": "markdown",
   "metadata": {},
   "source": [
    "### Determining an acid group's charge"
   ]
  },
  {
   "cell_type": "markdown",
   "metadata": {},
   "source": [
    "For an amine functional group, the protonated state ($H_{4}N^{+}$) is positively charged and the deprotonated state ($H_{3}N$) is neutral.\n",
    "$$q_{HA}=+1$$\n",
    "$$q_{A^{-}}=0$$"
   ]
  },
  {
   "cell_type": "markdown",
   "metadata": {},
   "source": [
    "So the the average charge for all the members of this acid group in solution depends on the fraction in each protonation state and the charges associated with those states.\n",
    "$$q_{total}=f_{HA}q_{HA}+f_{A^{-}}q_{A^{-}}$$"
   ]
  },
  {
   "cell_type": "markdown",
   "metadata": {},
   "source": [
    "For a more complex molecule with multiple acid groups, its net total charge is the sum of all its acid groups.\n",
    "$$q_{total}=\\sum_{i=1,n} f_{HA}(i)q_{HA}(i)+f_{A^{-}}(i)q_{A^{-}}(i)$$"
   ]
  },
  {
   "cell_type": "markdown",
   "metadata": {},
   "source": [
    "### An example"
   ]
  },
  {
   "cell_type": "markdown",
   "metadata": {},
   "source": [
    "**Question:** What is the $q_{Total}$ for formic acid, <img height='83' src='files/images/Formic_acid.svg'/>, in a solution at $pH=4.5$? Formic acid's carboxylate group has a $pK_{a}$ of 3.77."
   ]
  },
  {
   "cell_type": "code",
   "execution_count": null,
   "metadata": {},
   "outputs": [],
   "source": [
    "# Setup and imports\n",
    "import numpy as np\n",
    "import matplotlib.pyplot as plt\n",
    "\n",
    "from scripts.henderson_hasselbalch import *"
   ]
  },
  {
   "cell_type": "code",
   "execution_count": null,
   "metadata": {},
   "outputs": [],
   "source": [
    "def protonated_f(r):\n",
    "    '''Returns the fraction protonated for the given R'''\n",
    "    prot_frac = 1 / (1 + r)\n",
    "    return(prot_frac)\n",
    "\n",
    "def deprotonated_f(r):\n",
    "    '''Returns the fraction deprotonated for the given R'''\n",
    "    deprot_frac = 1 - protonated_f(r)\n",
    "    return(deprot_frac)\n",
    "\n",
    "def hh_r(pH, pKa):\n",
    "    '''Returns R from the Henderson-Hasselbalch equation'''\n",
    "    r = 10 ** (pH - pKa)\n",
    "    return(r)\n"
   ]
  },
  {
   "cell_type": "code",
   "execution_count": null,
   "metadata": {},
   "outputs": [],
   "source": [
    "#Create relevant variables and values\n",
    "cooh_pka = 3.77  # pKa of carboxylate\n",
    "soln_ph = 4.5  # pH of our solution\n",
    "protonated_charge = 0  # q_HA\n",
    "deprotonated_charge = -1  # q_A-"
   ]
  },
  {
   "cell_type": "code",
   "execution_count": null,
   "metadata": {},
   "outputs": [],
   "source": [
    "def q_total(r, prot_q, deprot_q):\n",
    "    '''Calculates the total charge on an acid group from the fractions and charges'''\n",
    "    qt = (protonated_f(r) * prot_q) + (deprotonated_f(r) * deprot_q)\n",
    "    return(qt)"
   ]
  },
  {
   "cell_type": "code",
   "execution_count": null,
   "metadata": {},
   "outputs": [],
   "source": [
    "#Find the value of R for formic acid at this pH\n",
    "formic_r = hh_r(soln_ph, cooh_pka)\n",
    "print(f'R is {formic_r}')\n",
    "print(f'Fraction protonated: {protonated_f(formic_r)}')\n",
    "print(f'Fraction deprotonated: {deprotonated_f(formic_r)}')"
   ]
  },
  {
   "cell_type": "code",
   "execution_count": null,
   "metadata": {},
   "outputs": [],
   "source": [
    "#Find the value of q_total for formic acid at this pH\n",
    "formic_q = q_total(formic_r, protonated_charge, deprotonated_charge)\n",
    "print(f'The total charge on formic acid is {formic_q}')"
   ]
  },
  {
   "cell_type": "markdown",
   "metadata": {},
   "source": [
    "### Another example"
   ]
  },
  {
   "cell_type": "markdown",
   "metadata": {},
   "source": [
    "<img height='100' src='files/images/amino_acid_zwitterion.svg'> **Amino Acid**\n",
    "\n",
    "A protein is a large linear polymer molecule made up of many amino acids, which have the general structure shown above at neutral pH. During polymerization the carboxylate groups (red) are covalently bonded to the amine groups (blue), becoming neutrally charged and relatively unreactive in acid chemistry; two exceptions are found at each end of the protein, where an amine group forms the \"N-terminus\" at one end and a carboxylate forms the \"C-terminus\" of the other. Some of the [various sidechains of amino acids](http://upload.wikimedia.org/wikipedia/commons/thumb/a/a9/Amino_Acids.svg/2000px-Amino_Acids.svg.png) (represented as \"R\" in the diagram) may contain important acid groups."
   ]
  },
  {
   "cell_type": "markdown",
   "metadata": {},
   "source": [
    "**Question:** What is the net charge of a protein which contains 1 Histidine, 1 Lysine, and 1 Glutamatate, and no other acidic amino acids in a solution of $pH=7.4$? Treat the N-terminal amine as having a $pK_{a}=7.8$ and the C-terminal carboxylate as having a $pK_{a}=3.8$."
   ]
  },
  {
   "cell_type": "code",
   "execution_count": null,
   "metadata": {},
   "outputs": [],
   "source": [
    "#There are 5 relevant functional groups in this problem, each with their own unique pKa\n",
    "#Let's define these values\n",
    "nterm_pka = 7.8\n",
    "cterm_pka = 3.8\n",
    "his_pka = 6.0\n",
    "lys_pka = 10.7\n",
    "glu_pka = 4.2\n",
    "#A graph of their protonation curves can be made\n",
    "phrange = np.linspace(0,14, 200)\n",
    "plot = plt.figure().add_subplot(111)\n",
    "plt.plot(phrange, protonated_f(hh_r(phrange, nterm_pka)))  # N-terminus\n",
    "plt.plot(phrange, protonated_f(hh_r(phrange, cterm_pka)))  # C-terminus\n",
    "plt.plot(phrange, protonated_f(hh_r(phrange, his_pka)))  # Histidine\n",
    "plt.plot(phrange, protonated_f(hh_r(phrange, lys_pka)))  # Lysine\n",
    "plt.plot(phrange, protonated_f(hh_r(phrange, glu_pka)))  # Glutamate\n",
    "plot.set_yticks(np.arange(0, 1, 0.1))\n",
    "plot.grid()"
   ]
  },
  {
   "cell_type": "code",
   "execution_count": null,
   "metadata": {},
   "outputs": [],
   "source": [
    "#This problem requires us to keep track of multiple acid groups and their charge states\n",
    "#Even with only 5 groups, this can get a little tedious\n",
    "#Let's make an easier way to deal with them\n",
    "from collections import namedtuple\n",
    "\n",
    "#A namedtuple is an efficient way of grouping the data for each acid\n",
    "acid = namedtuple('Acid', 'name, pka, p_q, d_q')\n",
    "\n",
    "#A list of our acids\n",
    "acids = [acid('nterm', nterm_pka, 1, 0),   # Amine protonated (+1)\n",
    "         acid('cterm', cterm_pka, 0, -1),  # Carboxylate protonated (0)\n",
    "         acid('his', his_pka, 1,0),        # Histidine protonated (1)\n",
    "         acid('lys', lys_pka, 1, 0),       # Lysine protonated (1)\n",
    "         acid('glu', glu_pka, 0, -1)]      # Glutamate protonated (0)"
   ]
  },
  {
   "cell_type": "code",
   "execution_count": null,
   "metadata": {},
   "outputs": [],
   "source": [
    "#Now that we have a nice data structure, we can iterate over it to get our answer\n",
    "pH = 7.4  # The pH stated in the problem\n",
    "protein_q = 0  # The charge of our protein, sum of all acid charges\n",
    "for a in acids:\n",
    "    a_r = hh_r(pH, a.pka)  # Get the R for this acid\n",
    "    acid_q = q_total(a_r, a.p_q, a.d_q)  # Get the charge for this acid\n",
    "    print('The {0} has a net charge of: {1}'.format(a.name, acid_q))\n",
    "    protein_q += acid_q\n",
    "print('The sum total charge for the protein is: {0}'.format(protein_q))"
   ]
  },
  {
   "cell_type": "code",
   "execution_count": null,
   "metadata": {},
   "outputs": [],
   "source": [
    "#What is the charge at pH 4?\n",
    "pH = 4  # Change the pH to 4\n",
    "protein_q = 0  # The charge of our protein, sum of all acid charges\n",
    "for a in acids:\n",
    "    a_r = hh_r(pH, a.pka)  # Get the R for this acid\n",
    "    acid_q = q_total(a_r, a.p_q, a.d_q)  # Get the charge for this acid\n",
    "    print('The {0} has a net charge of: {1}'.format(a.name, acid_q))\n",
    "    protein_q += acid_q\n",
    "print('The sum total charge for the protein is: {0}'.format(protein_q))"
   ]
  },
  {
   "cell_type": "markdown",
   "metadata": {},
   "source": [
    "**Bonus:** What is the charge of our protein through a range of $pH$?"
   ]
  },
  {
   "cell_type": "code",
   "execution_count": null,
   "metadata": {},
   "outputs": [],
   "source": [
    "#Make our previous code a callable function so it can be used repeatedly\n",
    "def protein_q_total(ph, acids):\n",
    "    '''Returns the total charge on a protein with given acids and at the defined pH'''\n",
    "    protein_q = 0\n",
    "    for a in acids:\n",
    "        a_r = hh_r(ph, a.pka)\n",
    "        protein_q += q_total(a_r, a.p_q, a.d_q)\n",
    "    return(protein_q)\n",
    "    "
   ]
  },
  {
   "cell_type": "code",
   "execution_count": null,
   "metadata": {},
   "outputs": [],
   "source": [
    "#Plot our charge in the pH range.\n",
    "phrange = np.linspace(0,14, 200)\n",
    "plot = plt.figure().add_subplot(111)\n",
    "plt.plot(phrange, protein_q_total(phrange, acids))\n",
    "plot.grid()"
   ]
  }
 ],
 "metadata": {
  "kernelspec": {
   "display_name": "Python 3",
   "language": "python",
   "name": "python3"
  },
  "language_info": {
   "codemirror_mode": {
    "name": "ipython",
    "version": 3
   },
   "file_extension": ".py",
   "mimetype": "text/x-python",
   "name": "python",
   "nbconvert_exporter": "python",
   "pygments_lexer": "ipython3",
   "version": "3.7.3"
  }
 },
 "nbformat": 4,
 "nbformat_minor": 1
}
