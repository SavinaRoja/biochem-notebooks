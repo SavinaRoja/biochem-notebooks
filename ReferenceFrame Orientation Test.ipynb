{
 "metadata": {
  "name": ""
 },
 "nbformat": 3,
 "nbformat_minor": 0,
 "worksheets": [
  {
   "cells": [
    {
     "cell_type": "code",
     "collapsed": false,
     "input": [
      "from sympy.physics.mechanics import ReferenceFrame\n",
      "from sympy import __version__\n",
      "from sympy import *\n",
      "\n",
      "import sys\n",
      "\n",
      "init_printing()\n",
      "print('Python: '+sys.version)\n",
      "print('SymPy: '+__version__)"
     ],
     "language": "python",
     "metadata": {},
     "outputs": [
      {
       "output_type": "stream",
       "stream": "stdout",
       "text": [
        "Python: 2.7.3 (default, Sep 26 2013, 20:08:41) \n",
        "[GCC 4.6.3]\n",
        "SymPy: 0.7.3\n"
       ]
      }
     ],
     "prompt_number": 1
    },
    {
     "cell_type": "code",
     "collapsed": false,
     "input": [
      "#I propose the following test to detect unexpected behavior in the orientation of\n",
      "#reference frames (ReferenceFrame class in sympy.physics.mechanics):\n",
      "#Define 5 reference frames, A, B, C, D, E\n",
      "#First, perform the orientations of B, C, and D as axial rotations around A.z\n",
      "#  B.orient(A, 'Axis', [pi/2, A.z])\n",
      "#  C.orient(A, 'Axis', [-pi/2, A.z])\n",
      "#  D.orient(A, 'Axis', [pi, A.z])\n",
      "#  E.orient(A, 'Axis', [pi, A.z])\n",
      "#Then perform the orientation of C as axial rotation around B.z\n",
      "#  C.orient(B, 'Axis', [pi/2, B.z])\n",
      "#\n",
      "#Predictions of correct behavior:\n",
      "#B.dcm(A), C.dcm(A), D.dcm(A), E.dcm(D) should give\n",
      "#  [ 0  1  0 ]   [ 0 -1  0 ]   [-1  0  0 ]   [ 1  0  0 ]\n",
      "#  [-1  0  0 ] , [ 1  0  0 ] , [ 0 -1  0 ] , [ 0  1  0 ]\n",
      "#  [ 0  0  1 ]   [ 0  0  1 ]   [ 0  0  1 ]   [ 0  0  1 ]\n",
      "#after the first step.\n",
      "#After performing the reorientation of C by explicit reference to B.z\n",
      "#C.dcm(B) should give\n",
      "#  [ 0  1  0 ]\n",
      "#  [-1  0  0 ]\n",
      "#  [ 0  0  1 ]\n",
      "#This is the same relative orientation of B to A executed in the first step.\n",
      "#Because B.z is oriented along A.z, the cumulative axial rotation of C around A.z\n",
      "#(since B is already rotated by pi/2) is pi.\n",
      "#Therefore C.dcm(A), C.dcm(D) should give the same results as D.dcm(A) and E.dcm(D)\n",
      "#did after the first orientation steps, giving\n",
      "#  [-1  0  0 ]   [ 1  0  0 ]\n",
      "#  [ 0 -1  0 ] , [ 0  1  0 ]\n",
      "#  [ 0  0  1 ]   [ 0  0  1 ]\n",
      "#\n",
      "#Description of correct behavior: Of 5 defined reference frames, 4 are oriented according\n",
      "#to an axis of the other explicitly. SymPy will allow for the correct (implicit)\n",
      "#calculation of the DCM between each reference frame, related as they are in the explicit\n",
      "#orientation to the single reference frame. Later, one reference frame is explicitly\n",
      "#re-oriented to another reference frame. SymPy adjusts the DCMs between this re-oriented\n",
      "#reference frame and each other reference frame correctly for the new orientation.\n",
      "#\n",
      "#Observations:\n",
      "#Re-orienting C according to B in the second step changed only C's DCM in relation to B. For\n",
      "#all of the other reference frames, no change was effected."
     ],
     "language": "python",
     "metadata": {},
     "outputs": [],
     "prompt_number": 2
    },
    {
     "cell_type": "code",
     "collapsed": false,
     "input": [
      "#This notebook should illustrate the issue"
     ],
     "language": "python",
     "metadata": {},
     "outputs": [],
     "prompt_number": 3
    },
    {
     "cell_type": "code",
     "collapsed": false,
     "input": [
      "#Here I define the 5 reference frames\n",
      "A = ReferenceFrame('A')\n",
      "B = ReferenceFrame('B')\n",
      "C = ReferenceFrame('C')\n",
      "D = ReferenceFrame('D')\n",
      "E = ReferenceFrame('E')"
     ],
     "language": "python",
     "metadata": {},
     "outputs": [],
     "prompt_number": 4
    },
    {
     "cell_type": "code",
     "collapsed": false,
     "input": [
      "#4 of the reference frames are oriented with respect to A.z\n",
      "B.orient(A, 'Axis', [pi/2, A.z])\n",
      "C.orient(A, 'Axis', [-pi/2, A.z])\n",
      "D.orient(A, 'Axis', [pi, A.z])\n",
      "E.orient(A, 'Axis', [pi, A.z])"
     ],
     "language": "python",
     "metadata": {},
     "outputs": [],
     "prompt_number": 5
    },
    {
     "cell_type": "code",
     "collapsed": false,
     "input": [
      "#Note that D and E were given the same orientation to A, thus are the same\n",
      "B.dcm(A), C.dcm(A), D.dcm(A), E.dcm(D)"
     ],
     "language": "python",
     "metadata": {},
     "outputs": [
      {
       "latex": [
        "$$\\begin{pmatrix}\\left[\\begin{smallmatrix}{}0 & 1 & 0\\\\-1 & 0 & 0\\\\0 & 0 & 1\\end{smallmatrix}\\right], & \\left[\\begin{smallmatrix}{}0 & -1 & 0\\\\1 & 0 & 0\\\\0 & 0 & 1\\end{smallmatrix}\\right], & \\left[\\begin{smallmatrix}{}-1 & 0 & 0\\\\0 & -1 & 0\\\\0 & 0 & 1\\end{smallmatrix}\\right], & \\left[\\begin{smallmatrix}{}1 & 0 & 0\\\\0 & 1 & 0\\\\0 & 0 & 1\\end{smallmatrix}\\right]\\end{pmatrix}$$"
       ],
       "metadata": {},
       "output_type": "pyout",
       "png": "[encoded data removed]",
       "prompt_number": 6,
       "text": [
        "\u239b\u23a10   1  0\u23a4, \u23a10  -1  0\u23a4, \u23a1-1  0   0\u23a4, \u23a11  0  0\u23a4\u239e\n",
        "\u239c\u23a2        \u23a5  \u23a2        \u23a5  \u23a2         \u23a5  \u23a2       \u23a5\u239f\n",
        "\u239c\u23a2-1  0  0\u23a5  \u23a21  0   0\u23a5  \u23a20   -1  0\u23a5  \u23a20  1  0\u23a5\u239f\n",
        "\u239c\u23a2        \u23a5  \u23a2        \u23a5  \u23a2         \u23a5  \u23a2       \u23a5\u239f\n",
        "\u239d\u23a30   0  1\u23a6  \u23a30  0   1\u23a6  \u23a30   0   1\u23a6  \u23a30  0  1\u23a6\u23a0"
       ]
      }
     ],
     "prompt_number": 6
    },
    {
     "cell_type": "code",
     "collapsed": false,
     "input": [
      "#For the sake of thoroughness, let's also look at C.dcm(D) before re-orienting\n",
      "C.dcm(D)"
     ],
     "language": "python",
     "metadata": {},
     "outputs": [
      {
       "latex": [
        "$$\\left[\\begin{smallmatrix}{}0 & 1 & 0\\\\-1 & 0 & 0\\\\0 & 0 & 1\\end{smallmatrix}\\right]$$"
       ],
       "metadata": {},
       "output_type": "pyout",
       "png": "[encoded data removed]",
       "prompt_number": 7,
       "text": [
        "\u23a10   1  0\u23a4\n",
        "\u23a2        \u23a5\n",
        "\u23a2-1  0  0\u23a5\n",
        "\u23a2        \u23a5\n",
        "\u23a30   0  1\u23a6"
       ]
      }
     ],
     "prompt_number": 7
    },
    {
     "cell_type": "code",
     "collapsed": false,
     "input": [
      "#Now I reorient C with respect to B.z with another pi/2 rotation\n",
      "C.orient(B, 'Axis', [pi/2, B.z])\n",
      "C.dcm(B)  # This should be the same as B.dcm(A) above, same relative orientation"
     ],
     "language": "python",
     "metadata": {},
     "outputs": [
      {
       "latex": [
        "$$\\left[\\begin{smallmatrix}{}0 & 1 & 0\\\\-1 & 0 & 0\\\\0 & 0 & 1\\end{smallmatrix}\\right]$$"
       ],
       "metadata": {},
       "output_type": "pyout",
       "png": "[encoded data removed]",
       "prompt_number": 8,
       "text": [
        "\u23a10   1  0\u23a4\n",
        "\u23a2        \u23a5\n",
        "\u23a2-1  0  0\u23a5\n",
        "\u23a2        \u23a5\n",
        "\u23a30   0  1\u23a6"
       ]
      }
     ],
     "prompt_number": 8
    },
    {
     "cell_type": "code",
     "collapsed": false,
     "input": [
      "#C.dcm(A) should now be the same as D.dcm(A) above\n",
      "#C.dcm(D) should now be the same as E.dcm(D) above\n",
      "C.dcm(A), C.dcm(D)"
     ],
     "language": "python",
     "metadata": {},
     "outputs": [
      {
       "latex": [
        "$$\\begin{pmatrix}\\left[\\begin{smallmatrix}{}0 & -1 & 0\\\\1 & 0 & 0\\\\0 & 0 & 1\\end{smallmatrix}\\right], & \\left[\\begin{smallmatrix}{}0 & 1 & 0\\\\-1 & 0 & 0\\\\0 & 0 & 1\\end{smallmatrix}\\right]\\end{pmatrix}$$"
       ],
       "metadata": {},
       "output_type": "pyout",
       "png": "[encoded data removed]",
       "prompt_number": 9,
       "text": [
        "\u239b\u23a10  -1  0\u23a4, \u23a10   1  0\u23a4\u239e\n",
        "\u239c\u23a2        \u23a5  \u23a2        \u23a5\u239f\n",
        "\u239c\u23a21  0   0\u23a5  \u23a2-1  0  0\u23a5\u239f\n",
        "\u239c\u23a2        \u23a5  \u23a2        \u23a5\u239f\n",
        "\u239d\u23a30  0   1\u23a6  \u23a30   0  1\u23a6\u23a0"
       ]
      }
     ],
     "prompt_number": 9
    },
    {
     "cell_type": "code",
     "collapsed": false,
     "input": [
      "#The statements in the cell above are not true. The DCMs for C and the other reference frames\n",
      "#aside from B (the frame explicitly re-oriented to) have not changed from their original\n",
      "#values."
     ],
     "language": "python",
     "metadata": {},
     "outputs": [],
     "prompt_number": 10
    }
   ],
   "metadata": {}
  }
 ]
}