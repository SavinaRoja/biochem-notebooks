{
 "metadata": {
  "name": ""
 },
 "nbformat": 3,
 "nbformat_minor": 0,
 "worksheets": [
  {
   "cells": [
    {
     "cell_type": "markdown",
     "metadata": {},
     "source": [
      "Adapted from this page of the SymPy Documentation: http://docs.sympy.org/dev/modules/physics/mechanics/vectors.html"
     ]
    },
    {
     "cell_type": "code",
     "collapsed": false,
     "input": [
      "#Setup\n",
      "%pylab inline\n",
      "#import numpy as np\n",
      "import pylab as pl\n",
      "\n",
      "import sympy\n",
      "from sympy.physics.mechanics import *\n",
      "\n",
      "sympy.init_printing()"
     ],
     "language": "python",
     "metadata": {},
     "outputs": [
      {
       "output_type": "stream",
       "stream": "stdout",
       "text": [
        "Populating the interactive namespace from numpy and matplotlib\n"
       ]
      },
      {
       "output_type": "stream",
       "stream": "stderr",
       "text": [
        "WARNING: pylab import has clobbered these variables: ['outer', 'dot', 'cross']\n",
        "`%pylab --no-import-all` prevents importing * from pylab and numpy\n"
       ]
      }
     ],
     "prompt_number": 133
    },
    {
     "cell_type": "code",
     "collapsed": false,
     "input": [
      "#Let's create a reference frame, big N\n",
      "N = ReferenceFrame('N')\n",
      "N.x, N.y, N.z"
     ],
     "language": "python",
     "metadata": {},
     "outputs": [
      {
       "metadata": {},
       "output_type": "pyout",
       "prompt_number": 2,
       "text": [
        "(N.x, N.y, N.z)"
       ]
      }
     ],
     "prompt_number": 2
    },
    {
     "cell_type": "code",
     "collapsed": false,
     "input": [
      "#We can do some vector algebra\n",
      "N.x + N.y, 2 * N.x + N.y"
     ],
     "language": "python",
     "metadata": {},
     "outputs": [
      {
       "metadata": {},
       "output_type": "pyout",
       "prompt_number": 3,
       "text": [
        "(N.x + N.y, 2*N.x + N.y)"
       ]
      }
     ],
     "prompt_number": 3
    },
    {
     "cell_type": "code",
     "collapsed": false,
     "input": [
      "#We can create a new symbol 'x' and use it in the algebra\n",
      "x = sympy.Symbol('x')\n",
      "x * (N.x + N.y)"
     ],
     "language": "python",
     "metadata": {},
     "outputs": [
      {
       "metadata": {},
       "output_type": "pyout",
       "prompt_number": 4,
       "text": [
        "x*N.x + x*N.y"
       ]
      }
     ],
     "prompt_number": 4
    },
    {
     "cell_type": "code",
     "collapsed": false,
     "input": [
      "#Adding a scalar to a vector is wrong\n",
      "try:\n",
      "    N.x + 5  # This will raise a TypeError\n",
      "except TypeError as err:\n",
      "    print(err)"
     ],
     "language": "python",
     "metadata": {},
     "outputs": [
      {
       "output_type": "stream",
       "stream": "stdout",
       "text": [
        "A Vector must be supplied\n"
       ]
      }
     ],
     "prompt_number": 5
    },
    {
     "cell_type": "markdown",
     "metadata": {},
     "source": [
      "There are a few ways to perform a dot product."
     ]
    },
    {
     "cell_type": "code",
     "collapsed": false,
     "input": [
      "#Using \"&\" as an operator\n",
      "N.x & N.x, N.x & N.y"
     ],
     "language": "python",
     "metadata": {},
     "outputs": [
      {
       "latex": [
        "$$\\begin{pmatrix}1, & 0\\end{pmatrix}$$"
       ],
       "metadata": {},
       "output_type": "pyout",
       "png": "[encoded data removed]",
       "prompt_number": 6,
       "text": [
        "(1, 0)"
       ]
      }
     ],
     "prompt_number": 6
    },
    {
     "cell_type": "code",
     "collapsed": false,
     "input": [
      "#Using the dot method of a vector\n",
      "N.x.dot(N.x), N.x.dot(N.y)"
     ],
     "language": "python",
     "metadata": {},
     "outputs": [
      {
       "latex": [
        "$$\\begin{pmatrix}1, & 0\\end{pmatrix}$$"
       ],
       "metadata": {},
       "output_type": "pyout",
       "png": "[encoded data removed]",
       "prompt_number": 7,
       "text": [
        "(1, 0)"
       ]
      }
     ],
     "prompt_number": 7
    },
    {
     "cell_type": "code",
     "collapsed": false,
     "input": [
      "#Using the dot function from sympy.physics.mechanics\n",
      "dot(N.x, N.x), dot(N.x, N.y)"
     ],
     "language": "python",
     "metadata": {},
     "outputs": [
      {
       "latex": [
        "$$\\begin{pmatrix}1, & 0\\end{pmatrix}$$"
       ],
       "metadata": {},
       "output_type": "pyout",
       "png": "[encoded data removed]",
       "prompt_number": 8,
       "text": [
        "(1, 0)"
       ]
      }
     ],
     "prompt_number": 8
    },
    {
     "cell_type": "markdown",
     "metadata": {},
     "source": [
      "Using of the operator will not respect order of operations, so manual addition of parentheses are needed to ensure correct results. Using the dot method of a vector may look cluttered/confusing, so the preferred method is the dot function from sympy.physics.mechanics: `dot(vec1, vec2)`."
     ]
    },
    {
     "cell_type": "markdown",
     "metadata": {},
     "source": [
      "Similarly, the cross product can be done in multiple fashions, with the same considerations."
     ]
    },
    {
     "cell_type": "code",
     "collapsed": false,
     "input": [
      "#Using \"^\" as an operator\n",
      "N.x ^ N.y, N.x ^ N.z"
     ],
     "language": "python",
     "metadata": {},
     "outputs": [
      {
       "metadata": {},
       "output_type": "pyout",
       "prompt_number": 9,
       "text": [
        "(N.z, - N.y)"
       ]
      }
     ],
     "prompt_number": 9
    },
    {
     "cell_type": "code",
     "collapsed": false,
     "input": [
      "N.x.cross(N.y), N.x.cross(N.z)"
     ],
     "language": "python",
     "metadata": {},
     "outputs": [
      {
       "metadata": {},
       "output_type": "pyout",
       "prompt_number": 10,
       "text": [
        "(N.z, - N.y)"
       ]
      }
     ],
     "prompt_number": 10
    },
    {
     "cell_type": "code",
     "collapsed": false,
     "input": [
      "cross(N.x, N.y), cross(N.x, N.z)"
     ],
     "language": "python",
     "metadata": {},
     "outputs": [
      {
       "metadata": {},
       "output_type": "pyout",
       "prompt_number": 11,
       "text": [
        "(N.z, - N.y)"
       ]
      }
     ],
     "prompt_number": 11
    },
    {
     "cell_type": "markdown",
     "metadata": {},
     "source": [
      "And of course, we can get a vector's magnitude or generate a normalization"
     ]
    },
    {
     "cell_type": "code",
     "collapsed": false,
     "input": [
      "(N.x + N.x).magnitude(), (N.x + N.y).magnitude()"
     ],
     "language": "python",
     "metadata": {},
     "outputs": [
      {
       "latex": [
        "$$\\begin{pmatrix}2, & \\sqrt{2}\\end{pmatrix}$$"
       ],
       "metadata": {},
       "output_type": "pyout",
       "png": "[encoded data removed]",
       "prompt_number": 12,
       "text": [
        "\u239b     ___\u239e\n",
        "\u239d2, \u2572\u2571 2 \u23a0"
       ]
      }
     ],
     "prompt_number": 12
    },
    {
     "cell_type": "code",
     "collapsed": false,
     "input": [
      "(N.x + N.x).normalize(), (N.x + N.y).normalize()"
     ],
     "language": "python",
     "metadata": {},
     "outputs": [
      {
       "metadata": {},
       "output_type": "pyout",
       "prompt_number": 13,
       "text": [
        "(N.x, sqrt(2)/2*N.x + sqrt(2)/2*N.y)"
       ]
      }
     ],
     "prompt_number": 13
    },
    {
     "cell_type": "markdown",
     "metadata": {},
     "source": [
      "Now we can use the mechanics package's special differentiation to differentiate a vector in its reference frame. The diff function from the base sympy does not handle reference frames."
     ]
    },
    {
     "cell_type": "code",
     "collapsed": false,
     "input": [
      "(x* N.x + N.y).diff(x, N)"
     ],
     "language": "python",
     "metadata": {},
     "outputs": [
      {
       "metadata": {},
       "output_type": "pyout",
       "prompt_number": 14,
       "text": [
        "N.x"
       ]
      }
     ],
     "prompt_number": 14
    },
    {
     "cell_type": "code",
     "collapsed": false,
     "input": [
      "#Let's create a new reference frame\n",
      "A = ReferenceFrame('A')\n",
      "A.x + N.x"
     ],
     "language": "python",
     "metadata": {},
     "outputs": [
      {
       "metadata": {},
       "output_type": "pyout",
       "prompt_number": 40,
       "text": [
        "A.x + N.x"
       ]
      }
     ],
     "prompt_number": 40
    },
    {
     "cell_type": "code",
     "collapsed": false,
     "input": [
      "#But we can't differentiate an N-vector in this frame until they are oriented\n",
      "try:\n",
      "    (x* N.x + N.y).diff(x, A)  # This will raise a ValueError\n",
      "except ValueError as err:\n",
      "    print(err)"
     ],
     "language": "python",
     "metadata": {},
     "outputs": [
      {
       "output_type": "stream",
       "stream": "stdout",
       "text": [
        "No Connecting Path found between A and N\n"
       ]
      }
     ],
     "prompt_number": 41
    },
    {
     "cell_type": "code",
     "collapsed": false,
     "input": [
      "#So lets' orient K and N\n",
      "theta = sympy.Symbol('theta')  # Angle of axis rotation, right-hand-rule applies\n",
      "A.orient(N, 'Axis', [theta, N.z])  # Rotate around N's z axis by theta"
     ],
     "language": "python",
     "metadata": {},
     "outputs": [],
     "prompt_number": 52
    },
    {
     "cell_type": "code",
     "collapsed": false,
     "input": [
      "(x * N.x + N.y).diff(x, A)"
     ],
     "language": "python",
     "metadata": {},
     "outputs": [
      {
       "metadata": {},
       "output_type": "pyout",
       "prompt_number": 57,
       "text": [
        "N.x"
       ]
      }
     ],
     "prompt_number": 57
    },
    {
     "cell_type": "code",
     "collapsed": false,
     "input": [
      "N.dcm(A)"
     ],
     "language": "python",
     "metadata": {},
     "outputs": [
      {
       "latex": [
        "$$\\left[\\begin{smallmatrix}{}\\cos{\\left (\\theta \\right )} & - \\sin{\\left (\\theta \\right )} & 0\\\\\\sin{\\left (\\theta \\right )} & \\cos{\\left (\\theta \\right )} & 0\\\\0 & 0 & 1\\end{smallmatrix}\\right]$$"
       ],
       "metadata": {},
       "output_type": "pyout",
       "png": "[encoded data removed]",
       "prompt_number": 55,
       "text": [
        "\u23a1cos(\u03b8)  -sin(\u03b8)  0\u23a4\n",
        "\u23a2                  \u23a5\n",
        "\u23a2sin(\u03b8)  cos(\u03b8)   0\u23a5\n",
        "\u23a2                  \u23a5\n",
        "\u23a3  0        0     1\u23a6"
       ]
      }
     ],
     "prompt_number": 55
    },
    {
     "cell_type": "markdown",
     "metadata": {},
     "source": [
      "Here is some cool stuff illustrating how orientations between Reference Frames are intelligently handled."
     ]
    },
    {
     "cell_type": "code",
     "collapsed": false,
     "input": [
      "#Four reference frames\n",
      "N = ReferenceFrame('N')\n",
      "B = ReferenceFrame('B')\n",
      "Bp = ReferenceFrame('Bp')\n",
      "Bpp = ReferenceFrame('Bpp')"
     ],
     "language": "python",
     "metadata": {},
     "outputs": [],
     "prompt_number": 82
    },
    {
     "cell_type": "code",
     "collapsed": false,
     "input": [
      "#Three rotation angles\n",
      "q0, q1, q2 = sympy.symbols('q:3')"
     ],
     "language": "python",
     "metadata": {},
     "outputs": [],
     "prompt_number": 83
    },
    {
     "cell_type": "code",
     "collapsed": false,
     "input": [
      "#Apply three axial-rotation orientation operations\n",
      "Bpp.orient(N, 'Axis', [q0, N.x])\n",
      "Bp.orient(Bpp, 'Axis', [q1, Bpp.y])\n",
      "B.orient(Bp, 'Axis', [q2, Bp.z])"
     ],
     "language": "python",
     "metadata": {},
     "outputs": [],
     "prompt_number": 84
    },
    {
     "cell_type": "code",
     "collapsed": false,
     "input": [
      "#B was not explicitly oriented to N, but we can still do\n",
      "N.dcm(B), N.dcm(Bpp), B.dcm(Bp)"
     ],
     "language": "python",
     "metadata": {},
     "outputs": [
      {
       "latex": [
        "$$\\begin{pmatrix}\\left[\\begin{smallmatrix}{}\\cos{\\left (q_{1} \\right )} \\cos{\\left (q_{2} \\right )} & - \\sin{\\left (q_{2} \\right )} \\cos{\\left (q_{1} \\right )} & \\sin{\\left (q_{1} \\right )}\\\\\\sin{\\left (q_{0} \\right )} \\sin{\\left (q_{1} \\right )} \\cos{\\left (q_{2} \\right )} + \\sin{\\left (q_{2} \\right )} \\cos{\\left (q_{0} \\right )} & - \\sin{\\left (q_{0} \\right )} \\sin{\\left (q_{1} \\right )} \\sin{\\left (q_{2} \\right )} + \\cos{\\left (q_{0} \\right )} \\cos{\\left (q_{2} \\right )} & - \\sin{\\left (q_{0} \\right )} \\cos{\\left (q_{1} \\right )}\\\\\\sin{\\left (q_{0} \\right )} \\sin{\\left (q_{2} \\right )} - \\sin{\\left (q_{1} \\right )} \\cos{\\left (q_{0} \\right )} \\cos{\\left (q_{2} \\right )} & \\sin{\\left (q_{0} \\right )} \\cos{\\left (q_{2} \\right )} + \\sin{\\left (q_{1} \\right )} \\sin{\\left (q_{2} \\right )} \\cos{\\left (q_{0} \\right )} & \\cos{\\left (q_{0} \\right )} \\cos{\\left (q_{1} \\right )}\\end{smallmatrix}\\right], & \\left[\\begin{smallmatrix}{}1 & 0 & 0\\\\0 & \\cos{\\left (q_{0} \\right )} & - \\sin{\\left (q_{0} \\right )}\\\\0 & \\sin{\\left (q_{0} \\right )} & \\cos{\\left (q_{0} \\right )}\\end{smallmatrix}\\right], & \\left[\\begin{smallmatrix}{}\\cos{\\left (q_{2} \\right )} & \\sin{\\left (q_{2} \\right )} & 0\\\\- \\sin{\\left (q_{2} \\right )} & \\cos{\\left (q_{2} \\right )} & 0\\\\0 & 0 & 1\\end{smallmatrix}\\right]\\end{pmatrix}$$"
       ],
       "metadata": {},
       "output_type": "pyout",
       "png": "[encoded data removed]",
       "prompt_number": 85,
       "text": [
        "\u239b\u23a1             cos(q\u2081)\u22c5cos(q\u2082)                            -sin(q\u2082)\u22c5cos(q\u2081)    \n",
        "\u239c\u23a2                                                                            \n",
        "\u239c\u23a2sin(q\u2080)\u22c5sin(q\u2081)\u22c5cos(q\u2082) + sin(q\u2082)\u22c5cos(q\u2080)  -sin(q\u2080)\u22c5sin(q\u2081)\u22c5sin(q\u2082) + cos(q\u2080\n",
        "\u239c\u23a2                                                                            \n",
        "\u239d\u23a3sin(q\u2080)\u22c5sin(q\u2082) - sin(q\u2081)\u22c5cos(q\u2080)\u22c5cos(q\u2082)  sin(q\u2080)\u22c5cos(q\u2082) + sin(q\u2081)\u22c5sin(q\u2082)\n",
        "\n",
        "               sin(q\u2081)     \u23a4, \u23a11     0        0    \u23a4, \u23a1cos(q\u2082)   sin(q\u2082)  0\u23a4\u239e\n",
        "                           \u23a5  \u23a2                    \u23a5  \u23a2                    \u23a5\u239f\n",
        ")\u22c5cos(q\u2082)  -sin(q\u2080)\u22c5cos(q\u2081)\u23a5  \u23a20  cos(q\u2080)  -sin(q\u2080)\u23a5  \u23a2-sin(q\u2082)  cos(q\u2082)  0\u23a5\u239f\n",
        "                           \u23a5  \u23a2                    \u23a5  \u23a2                    \u23a5\u239f\n",
        "\u22c5cos(q\u2080)   cos(q\u2080)\u22c5cos(q\u2081) \u23a6  \u23a30  sin(q\u2080)  cos(q\u2080) \u23a6  \u23a3   0         0     1\u23a6\u23a0"
       ]
      }
     ],
     "prompt_number": 85
    },
    {
     "cell_type": "code",
     "collapsed": false,
     "input": [
      "B.orient(N,'Body',[q0,q1,q2],'XYX')"
     ],
     "language": "python",
     "metadata": {},
     "outputs": [],
     "prompt_number": 86
    },
    {
     "cell_type": "code",
     "collapsed": false,
     "input": [
      "N.dcm(B), N.dcm(Bpp), B.dcm(Bp)"
     ],
     "language": "python",
     "metadata": {},
     "outputs": [
      {
       "latex": [
        "$$\\begin{pmatrix}\\left[\\begin{smallmatrix}{}\\cos{\\left (q_{1} \\right )} & \\sin{\\left (q_{1} \\right )} \\sin{\\left (q_{2} \\right )} & \\sin{\\left (q_{1} \\right )} \\cos{\\left (q_{2} \\right )}\\\\\\sin{\\left (q_{0} \\right )} \\sin{\\left (q_{1} \\right )} & - \\sin{\\left (q_{0} \\right )} \\sin{\\left (q_{2} \\right )} \\cos{\\left (q_{1} \\right )} + \\cos{\\left (q_{0} \\right )} \\cos{\\left (q_{2} \\right )} & - \\sin{\\left (q_{0} \\right )} \\cos{\\left (q_{1} \\right )} \\cos{\\left (q_{2} \\right )} - \\sin{\\left (q_{2} \\right )} \\cos{\\left (q_{0} \\right )}\\\\- \\sin{\\left (q_{1} \\right )} \\cos{\\left (q_{0} \\right )} & \\sin{\\left (q_{0} \\right )} \\cos{\\left (q_{2} \\right )} + \\sin{\\left (q_{2} \\right )} \\cos{\\left (q_{0} \\right )} \\cos{\\left (q_{1} \\right )} & - \\sin{\\left (q_{0} \\right )} \\sin{\\left (q_{2} \\right )} + \\cos{\\left (q_{0} \\right )} \\cos{\\left (q_{1} \\right )} \\cos{\\left (q_{2} \\right )}\\end{smallmatrix}\\right], & \\left[\\begin{smallmatrix}{}1 & 0 & 0\\\\0 & \\cos{\\left (q_{0} \\right )} & - \\sin{\\left (q_{0} \\right )}\\\\0 & \\sin{\\left (q_{0} \\right )} & \\cos{\\left (q_{0} \\right )}\\end{smallmatrix}\\right], & \\left[\\begin{smallmatrix}{}\\cos{\\left (q_{2} \\right )} & \\sin{\\left (q_{2} \\right )} & 0\\\\- \\sin{\\left (q_{2} \\right )} & \\cos{\\left (q_{2} \\right )} & 0\\\\0 & 0 & 1\\end{smallmatrix}\\right]\\end{pmatrix}$$"
       ],
       "metadata": {},
       "output_type": "pyout",
       "png": "[encoded data removed]",
       "prompt_number": 87,
       "text": [
        "\u239b\u23a1    cos(q\u2081)                    sin(q\u2081)\u22c5sin(q\u2082)                             s\n",
        "\u239c\u23a2                                                                            \n",
        "\u239c\u23a2sin(q\u2080)\u22c5sin(q\u2081)   -sin(q\u2080)\u22c5sin(q\u2082)\u22c5cos(q\u2081) + cos(q\u2080)\u22c5cos(q\u2082)  -sin(q\u2080)\u22c5cos(q\n",
        "\u239c\u23a2                                                                            \n",
        "\u239d\u23a3-sin(q\u2081)\u22c5cos(q\u2080)  sin(q\u2080)\u22c5cos(q\u2082) + sin(q\u2082)\u22c5cos(q\u2080)\u22c5cos(q\u2081)   -sin(q\u2080)\u22c5sin(q\n",
        "\n",
        "in(q\u2081)\u22c5cos(q\u2082)              \u23a4, \u23a11     0        0    \u23a4, \u23a1cos(q\u2082)   sin(q\u2082)  0\u23a4\u239e\n",
        "                            \u23a5  \u23a2                    \u23a5  \u23a2                    \u23a5\u239f\n",
        "\u2081)\u22c5cos(q\u2082) - sin(q\u2082)\u22c5cos(q\u2080)\u23a5  \u23a20  cos(q\u2080)  -sin(q\u2080)\u23a5  \u23a2-sin(q\u2082)  cos(q\u2082)  0\u23a5\u239f\n",
        "                            \u23a5  \u23a2                    \u23a5  \u23a2                    \u23a5\u239f\n",
        "\u2082) + cos(q\u2080)\u22c5cos(q\u2081)\u22c5cos(q\u2082)\u23a6  \u23a30  sin(q\u2080)  cos(q\u2080) \u23a6  \u23a3   0         0     1\u23a6\u23a0"
       ]
      }
     ],
     "prompt_number": 87
    }
   ],
   "metadata": {}
  }
 ]
}