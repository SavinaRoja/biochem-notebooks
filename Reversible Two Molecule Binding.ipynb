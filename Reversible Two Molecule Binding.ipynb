{
 "cells": [
  {
   "cell_type": "markdown",
   "metadata": {},
   "source": [
    "# Reversible Two Molecule Binding\n",
    "\n",
    "The following binding model will be the focus of this notebook, herein we will derive equations for understanding this model and working with experimental data to suit it.\n",
    "\n",
    "$$[M] + [L]\\underset{k_{off}}{\\overset{k_{on}}{\\leftrightharpoons}} [ML]$$\n",
    "\n",
    "The symbols $M$ and $L$ were selected to represent members in a common biochemical binding scenario: the *Macromolecule* and the *Ligand*. The *Macromolecule* could be a protein such as myoglobin, a ribozyme such as RNase P, a segment of double-stranded DNA, or even something else. The *Ligand* in many cases will be a small molecule, such as heme in the case of myoglobin, but it certainly need not be. Rnase P is a ribozyme that cleaves other RNA sequences, so in this case the *Ligand* is certainly also a macromolecule. We'll keep the $M$, $L$, $ML$ notation here for clarity and one must keep in mind that the equations apply to any system of two molecules that reversibly interact."
   ]
  },
  {
   "cell_type": "markdown",
   "metadata": {},
   "source": [
    "## Equilibrium Constants\n",
    "\n",
    "As this is a reversible reaction, we anticipate a system composed originally of only reactants, $M$ and $L$, or products, $ML$, to eventually strike a balance between the two. Where this balance lies depends on the characteristic rate constants of the system, $k_{on}$ and $k_{off}$.\n",
    "\n",
    "To be at equilibrium, the forward and reverse rates must be equivalent. This leads to the following deduction:\n",
    "\n",
    "$$\\text{At equilibrium: net rate is zero}$$\n",
    "\n",
    "$$\\therefore\\text{rate_{forward} = rate_{reverse}}$$\n",
    "\n",
    "$$k_{on}[M][L] = k_{off}[ML]$$\n",
    "\n",
    "$$\\frac{k_{on}}{k_{off}} = \\frac{[ML]}{[M][L]} = K_{eq} = K_{A}$$\n",
    "\n",
    "The forward equilibrium constant, $K_{eq}$, represents the balance of products over reactants at equilibrium: $K_{eq} = \\frac{[ML]_{eq}}{[M]_{eq}[L]_{eq}}$\n",
    "\n",
    "$K_{A}$ is simply another symbol for the equilibrium constant, where $A$ is taken to mean *\"Association\"*. This is useful nomenclatrue as we begin to discuss the reverse equilibrium constant, $K_{D}$, where $D$ means *\"Dissociation\"*.\n",
    "\n",
    "$$K_{D} = \\frac{1}{K_{A}}=\\frac{[M][L]}{[ML]}=\\frac{k_{off}}{k_{on}}$$"
   ]
  },
  {
   "cell_type": "markdown",
   "metadata": {},
   "source": [
    "## Mass Balance Equations\n",
    "\n",
    "When composing a mixture of $M$ and $L$, the initial quantities or concentrations are given as $[M]_{0}$ and $[L]_{0}$. At any given time, the following mass balance equations must hold:\n",
    "\n",
    "$$[M]_{0} = [M] + [ML]$$\n",
    "\n",
    "$$[L]_{0} = [L] + [ML]$$"
   ]
  },
  {
   "cell_type": "markdown",
   "metadata": {},
   "source": [
    "## General Equation\n",
    "\n",
    "Let us determine an equation relating the amount of $[ML]$ and our initial concentrations. The first step is to generate the equation with only the terms $K_{D}$, $[ML]$, $[M]_{0}$, and $[L]_{0}$ by subsituting our mass balance equations into the equation for $K_{D}$:\n",
    "\n",
    "$$K_{D} = \\frac{[M][L]}{[ML]} = \\frac{([M]_{0}-[ML])([L]_{0}-[ML])}{[ML]}$$\n",
    "\n",
    "This we may rearrange to:\n",
    "\n",
    "$$K_{D}[ML] = ([M]_{0}-[ML])([L]_{0}-[ML])$$\n",
    "\n",
    "$$K_{D}[ML] = [ML]^{2}-([M]_{0} + [L]_{0})[ML]+[M]_{0}[L]_{0}$$\n",
    "\n",
    "$$0 = [ML]^{2}-([M]_{0} + [L]_{0} + K_{D})[ML]+[M]_{0}[L]_{0}$$\n",
    "\n",
    "This is then in the quadratic form $ax^{2}+bx+c$ where $x$ is $[ML]$ and we obtain the following coefficients:\n",
    "\n",
    "$$a = 1$$\n",
    "\n",
    "$$b = -([M]_{0} + [L]_{0} + K_{D})$$\n",
    "\n",
    "$$c = [M]_{0}[L]_{0}$$\n",
    "\n",
    "Solving the quadratic formula $x = \\frac{-b \\pm \\sqrt{b^{2} - 4ac}}{2a}$ with these coefficients will thus give a solution for $[ML]$ (we will ignore)."
   ]
  },
  {
   "cell_type": "markdown",
   "metadata": {},
   "source": []
  },
  {
   "cell_type": "code",
   "execution_count": 4,
   "metadata": {
    "collapsed": true
   },
   "outputs": [],
   "source": [
    "%matplotlib inline\n",
    "import numpy as np\n",
    "import scipy as sp\n",
    "import matplotlib\n",
    "import matplotlib.pyplot as pyplot"
   ]
  },
  {
   "cell_type": "code",
   "execution_count": 85,
   "metadata": {
    "collapsed": false
   },
   "outputs": [],
   "source": [
    "def general_binding(kd, m_initial, l_initial):\n",
    "    \"\"\"\n",
    "    A function to model the general binding equation for reversible two molecule\n",
    "    interactions.\n",
    "    \"\"\"\n",
    "    a = 1.0\n",
    "    b = -1.0 * (kd + m_initial + l_initial)\n",
    "    c = m_initial * l_initial\n",
    "\n",
    "    discriminant = np.power(b, 2) - (4 * a * c)\n",
    "\n",
    "    first_term = -1 * b\n",
    "    second_term = np.sqrt(discriminant)\n",
    "\n",
    "    return (first_term - second_term) / (2 * a)"
   ]
  },
  {
   "cell_type": "code",
   "execution_count": 119,
   "metadata": {
    "collapsed": false
   },
   "outputs": [
    {
     "data": {
      "text/plain": [
       "<matplotlib.text.Text at 0x7ff0f6b07208>"
      ]
     },
     "execution_count": 119,
     "metadata": {},
     "output_type": "execute_result"
    },
    {
     "data": {
      "image/png": "[encoded data removed]",
      "text/plain": [
       "<matplotlib.figure.Figure at 0x7ff0f6999550>"
      ]
     },
     "metadata": {},
     "output_type": "display_data"
    }
   ],
   "source": [
    "m_range = np.linspace(0, 200, 100)\n",
    "ml = general_binding(20, m_range, 10)\n",
    "\n",
    "pyplot.plot(m_range, ml)\n",
    "pyplot.title('Binding as M titrates, constant L')\n",
    "pyplot.xlabel('[M] (M)')\n",
    "pyplot.ylabel('[ML] (M)')"
   ]
  },
  {
   "cell_type": "code",
   "execution_count": 96,
   "metadata": {
    "collapsed": false
   },
   "outputs": [
    {
     "data": {
      "text/plain": [
       "<matplotlib.text.Text at 0x7ff0f7213b38>"
      ]
     },
     "execution_count": 96,
     "metadata": {},
     "output_type": "execute_result"
    },
    {
     "data": {
      "image/png": "[encoded data removed]",
      "text/plain": [
       "<matplotlib.figure.Figure at 0x7ff0f717c748>"
      ]
     },
     "metadata": {},
     "output_type": "display_data"
    }
   ],
   "source": [
    "l_range = np.linspace(0, 200, 100)\n",
    "ml = general_binding(10, 10, l_range)\n",
    "\n",
    "pyplot.plot(l_range, ml)\n",
    "pyplot.title('Binding as L titrates, constant M')\n",
    "pyplot.xlabel('[L] (M)')\n",
    "pyplot.ylabel('[ML] (M)')"
   ]
  },
  {
   "cell_type": "code",
   "execution_count": null,
   "metadata": {
    "collapsed": true
   },
   "outputs": [],
   "source": []
  },
  {
   "cell_type": "code",
   "execution_count": 108,
   "metadata": {
    "collapsed": false
   },
   "outputs": [
    {
     "data": {
      "text/plain": [
       "<matplotlib.legend.Legend at 0x7ff0f6c77358>"
      ]
     },
     "execution_count": 108,
     "metadata": {},
     "output_type": "execute_result"
    },
    {
     "data": {
      "image/png": "[encoded data removed]",
      "text/plain": [
       "<matplotlib.figure.Figure at 0x7ff0f6cad860>"
      ]
     },
     "metadata": {},
     "output_type": "display_data"
    }
   ],
   "source": [
    "#Doesn't matter which you titrate\n",
    "m_range = np.linspace(0, 200, 50)\n",
    "m_titrate = general_binding(10, m_range, 10)\n",
    "\n",
    "l_range = np.linspace(0, 200, 40)\n",
    "l_titrate = general_binding(10, 10, l_range)\n",
    "\n",
    "pyplot.plot(m_range, m_titrate, 'bo', label='Titrating M')\n",
    "pyplot.plot(l_range, l_titrate, 'rd', label='Titrating L')\n",
    "pyplot.title('Titrating either M or L, with same Kd and constant other')\n",
    "pyplot.xlabel('[M] or [L] (M)')\n",
    "pyplot.ylabel('[ML] (M)')\n",
    "pyplot.legend(loc='best')"
   ]
  },
  {
   "cell_type": "code",
   "execution_count": 109,
   "metadata": {
    "collapsed": true
   },
   "outputs": [],
   "source": [
    "def scaled_general_binding(scaling, kd, m_initial, l_initial):\n",
    "    \"\"\"\n",
    "    A function to model the general binding equation for reversible two molecule\n",
    "    interactions.\n",
    "    \"\"\"\n",
    "    a = 1.0\n",
    "    b = -1.0 * (kd + m_initial + l_initial)\n",
    "    c = m_initial * l_initial\n",
    "\n",
    "    discriminant = np.power(b, 2) - (4 * a * c)\n",
    "\n",
    "    first_term = -1 * b\n",
    "    second_term = np.sqrt(discriminant)\n",
    "\n",
    "    return scaling * (first_term - second_term) / (2 * a)"
   ]
  },
  {
   "cell_type": "code",
   "execution_count": 112,
   "metadata": {
    "collapsed": false
   },
   "outputs": [
    {
     "data": {
      "text/plain": [
       "<matplotlib.text.Text at 0x7ff0f6bfa320>"
      ]
     },
     "execution_count": 112,
     "metadata": {},
     "output_type": "execute_result"
    },
    {
     "data": {
      "image/png": "[encoded data removed]",
      "text/plain": [
       "<matplotlib.figure.Figure at 0x7ff0f6bbe668>"
      ]
     },
     "metadata": {},
     "output_type": "display_data"
    }
   ],
   "source": [
    "l_range = np.linspace(0, 200, 100)\n",
    "ml = scaled_general_binding(500, 10, 10, l_range)\n",
    "\n",
    "pyplot.plot(l_range, ml)\n",
    "pyplot.title('Binding as L titrates, constant M')\n",
    "pyplot.xlabel('[L] (M)')\n",
    "pyplot.ylabel('[ML] (M)')"
   ]
  },
  {
   "cell_type": "code",
   "execution_count": 116,
   "metadata": {
    "collapsed": false
   },
   "outputs": [
    {
     "data": {
      "text/plain": [
       "[<matplotlib.lines.Line2D at 0x7ff0f6a71dd8>]"
      ]
     },
     "execution_count": 116,
     "metadata": {},
     "output_type": "execute_result"
    },
    {
     "data": {
      "image/png": "[encoded data removed]",
      "text/plain": [
       "<matplotlib.figure.Figure at 0x7ff0f6b20c50>"
      ]
     },
     "metadata": {},
     "output_type": "display_data"
    }
   ],
   "source": [
    "m = np.array([0.0,0.145,0.33495,0.77285,1.7835,3.6685,9.541,22.04,50.895,117.595,271.15,481.4,1450])\n",
    "l = 0.1\n",
    "fluorescence = np.array([339.3333333333,492,1418.6666666667,1341,3130,5509.3333333333,11389.3333333333,19671.6666666667,28406,35452,36769.6666666667,41462.8422425033,44774.3333333333])\n",
    "\n",
    "pyplot.plot(m, fluorescence)"
   ]
  },
  {
   "cell_type": "code",
   "execution_count": null,
   "metadata": {
    "collapsed": true
   },
   "outputs": [],
   "source": [
    "def "
   ]
  }
 ],
 "metadata": {
  "kernelspec": {
   "display_name": "Python 3",
   "language": "python",
   "name": "python3"
  },
  "language_info": {
   "codemirror_mode": {
    "name": "ipython",
    "version": 3
   },
   "file_extension": ".py",
   "mimetype": "text/x-python",
   "name": "python",
   "nbconvert_exporter": "python",
   "pygments_lexer": "ipython3",
   "version": "3.4.2"
  }
 },
 "nbformat": 4,
 "nbformat_minor": 0
}
